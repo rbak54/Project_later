{
 "cells": [
  {
   "cell_type": "code",
   "execution_count": 11,
   "metadata": {},
   "outputs": [],
   "source": [
    "correlation_df<-read.csv(\"../Results/fromfunction/cors/3Temperaturecorrelation_dataframe.csv\")"
   ]
  },
  {
   "cell_type": "code",
   "execution_count": 13,
   "metadata": {},
   "outputs": [
    {
     "ename": "ERROR",
     "evalue": "Error: Problem with `summarise()` input `errors`.\n\u001b[31m✖\u001b[39m could not find function \"std\"\n\u001b[34mℹ\u001b[39m Input `errors` is `std(corsI)`.\n\u001b[34mℹ\u001b[39m The error occured in group 1: mismatch = 0.\n",
     "output_type": "error",
     "traceback": [
      "Error: Problem with `summarise()` input `errors`.\n\u001b[31m✖\u001b[39m could not find function \"std\"\n\u001b[34mℹ\u001b[39m Input `errors` is `std(corsI)`.\n\u001b[34mℹ\u001b[39m The error occured in group 1: mismatch = 0.\nTraceback:\n",
      "1. as_tibble(correlation_df) %>% group_by(mismatch) %>% summarise(means = mean(corsI), \n .     errors = std(corsI), .groups = \"keep\")",
      "2. withVisible(eval(quote(`_fseq`(`_lhs`)), env, env))",
      "3. eval(quote(`_fseq`(`_lhs`)), env, env)",
      "4. eval(quote(`_fseq`(`_lhs`)), env, env)",
      "5. `_fseq`(`_lhs`)",
      "6. freduce(value, `_function_list`)",
      "7. withVisible(function_list[[k]](value))",
      "8. function_list[[k]](value)",
      "9. summarise(., means = mean(corsI), errors = std(corsI), .groups = \"keep\")",
      "10. summarise.grouped_df(., means = mean(corsI), errors = std(corsI), \n  .     .groups = \"keep\")",
      "11. summarise_cols(.data, ...)",
      "12. tryCatch({\n  .     for (i in seq_along(dots)) {\n  .         quo <- dots[[i]]\n  .         chunks[[i]] <- mask$eval_all_summarise(quo)\n  .         mask$across_cache_reset()\n  .         result_type <- types[[i]] <- tryCatch(vec_ptype_common(!!!chunks[[i]]), \n  .             vctrs_error_incompatible_type = function(cnd) {\n  .                 abort(class = \"dplyr:::error_summarise_incompatible_combine\", \n  .                   parent = cnd)\n  .             })\n  .         if ((is.null(dots_names) || dots_names[i] == \"\") && is.data.frame(result_type)) {\n  .             map2(seq_along(result_type), names(result_type), \n  .                 function(j, nm) {\n  .                   mask$add(nm, pluck(chunks[[i]], j))\n  .                 })\n  .         }\n  .         else {\n  .             mask$add(auto_named_dots[i], chunks[[i]])\n  .         }\n  .     }\n  .     recycle_info <- .Call(dplyr_summarise_recycle_chunks, chunks, \n  .         mask$get_rows(), types)\n  .     chunks <- recycle_info$chunks\n  .     sizes <- recycle_info$sizes\n  .     for (i in seq_along(dots)) {\n  .         result <- vec_c(!!!chunks[[i]], .ptype = types[[i]])\n  .         if ((is.null(dots_names) || dots_names[i] == \"\") && is.data.frame(result)) {\n  .             cols[names(result)] <- result\n  .         }\n  .         else {\n  .             cols[[auto_named_dots[i]]] <- result\n  .         }\n  .     }\n  . }, error = function(e) {\n  .     if (inherits(e, \"rlang_error_data_pronoun_not_found\")) {\n  .         stop_error_data_pronoun_not_found(conditionMessage(e), \n  .             index = i, dots = dots, fn = \"summarise\")\n  .     }\n  .     else if (inherits(e, \"dplyr:::error_summarise_incompatible_combine\")) {\n  .         stop_combine(e$parent, index = i, dots = dots, fn = \"summarise\")\n  .     }\n  .     else if (inherits(e, \"dplyr:::summarise_unsupported_type\")) {\n  .         stop_summarise_unsupported_type(result = e$result, index = i, \n  .             dots = dots)\n  .     }\n  .     else if (inherits(e, \"dplyr:::summarise_incompatible_size\")) {\n  .         stop_summarise_incompatible_size(size = e$size, group = e$group, \n  .             index = e$index, expected_size = e$expected_size, \n  .             dots = dots)\n  .     }\n  .     else {\n  .         stop_dplyr(i, dots, fn = \"summarise\", problem = conditionMessage(e), \n  .             parent = e)\n  .     }\n  . })",
      "13. tryCatchList(expr, classes, parentenv, handlers)",
      "14. tryCatchOne(expr, names, parentenv, handlers[[1L]])",
      "15. value[[3L]](cond)",
      "16. stop_dplyr(i, dots, fn = \"summarise\", problem = conditionMessage(e), \n  .     parent = e)",
      "17. abort(bullets, class = \"dplyr_error\", error_name = error_name, \n  .     error_expression = error_expression, index = .index, dots = dots, \n  .     fn = fn, parent = parent)",
      "18. signal_abort(cnd)"
     ]
    }
   ],
   "source": [
    "require(tidyverse)\n",
    "require(ggplot2)\n",
    "\n",
    "bests<-correlation_df %>% group_by(country) %>% summarise(best=mismatch[which.max(corsI)],.groups=\"keep\")\n",
    "\n",
    "correlation_df_means<-as_tibble(correlation_df) %>% group_by(mismatch) %>% summarise(means=mean(corsI),errors=std(corsI),.groups=\"keep\")\n",
    "correlation_df_means_country<-as_tibble(correlation_df) %>% group_by(mismatch,lat,maxs,mins,time_max,pop) %>% summarise(means=mean(corsI),errors=std(corsI),.groups=\"keep\")\n",
    "\n",
    "\n"
   ]
  },
  {
   "cell_type": "code",
   "execution_count": 6,
   "metadata": {},
   "outputs": [
    {
     "ename": "ERROR",
     "evalue": "Error in parse(text = x, srcfile = src): <text>:31:0: unexpected end of input\n29: print(ggplot(data=correlation_df_means_country, aes(x= abs(lat) , y=means, col=log(pop)))+geom_point()+theme_bw()+\n30:         geom_errorbar(aes(ymin=means+errors,ymax=means-errors)) \n   ^\n",
     "output_type": "error",
     "traceback": [
      "Error in parse(text = x, srcfile = src): <text>:31:0: unexpected end of input\n29: print(ggplot(data=correlation_df_means_country, aes(x= abs(lat) , y=means, col=log(pop)))+geom_point()+theme_bw()+\n30:         geom_errorbar(aes(ymin=means+errors,ymax=means-errors)) \n   ^\nTraceback:\n"
     ]
    }
   ],
   "source": [
    "\n",
    "print(ggplot(data=correlation_df, aes(x= as.factor(mismatch),y= corsI)) +geom_boxplot())\n",
    "\n",
    "print(ggplot(data=correlation_df_means, aes(x= as.factor(mismatch),y= means)) +geom_point()+\n",
    "  geom_errorbar(aes(ymin=means+errors,ymax=means-errors)))\n",
    "\n",
    "print(ggplot(data=correlation_df_means_country, aes(x= abs(lat), col=as.factor(mismatch),y= means)) +geom_point()+\n",
    "  geom_errorbar(aes(ymin=means+errors,ymax=means-errors)))\n",
    "\n",
    "print(ggplot(data=correlation_df, aes(x= mismatch,y= corsI)) +geom_boxplot()  +theme_bw()+xlab(\"Mismatch\") +ylab(\"Mean Correlation\"))\n",
    "\n",
    "print(ggplot(data=correlation_df_means, aes(x= as.factor(mismatch),y= means)) +geom_point()+theme_bw()+\n",
    "        geom_errorbar(aes(ymin=means+errors,ymax=means-errors))+xlab(\"Mismatch\") +ylab(\"Mean Correlation\"))\n",
    "\n",
    "print(ggplot(data=correlation_df_means_country, aes(x= abs(lat), col=as.factor(mismatch),y= means))+geom_point()+theme_bw()+\n",
    "        geom_errorbar(aes(ymin=means+errors,ymax=means-errors)) +xlab(\"Absolute Value of Latitude\") +ylab(\"Mean Correlation\") )\n",
    "\n",
    "\n",
    "\n",
    "print(ggplot(data=correlation_df_means_country, aes(x= abs(lat) , col=as.factor(mismatch),y=maxs-mins))+geom_point()+theme_bw()+\n",
    "        geom_errorbar(aes(ymin=means+errors,ymax=means-errors)) )\n",
    "#differencres in mismatch at higher lat could be due to this diff\n",
    "\n",
    "print(ggplot(data=correlation_df_means_country, aes(y=means , col=as.factor(mismatch),x=maxs-mins))+geom_point()+theme_bw()+\n",
    "              geom_errorbar(aes(ymin=means+errors,ymax=means-errors))) \n",
    "#but at low value still unclear\n",
    "\n",
    "\n",
    "print(ggplot(data=correlation_df_means_country, aes(x= abs(lat) , y=means, col=log(pop)))+geom_point()+theme_bw()+\n",
    "        geom_errorbar(aes(ymin=means+errors,ymax=means-errors)) "
   ]
  }
 ],
 "metadata": {
  "kernelspec": {
   "display_name": "R",
   "language": "R",
   "name": "ir"
  },
  "language_info": {
   "codemirror_mode": "r",
   "file_extension": ".r",
   "mimetype": "text/x-r-source",
   "name": "R",
   "pygments_lexer": "r",
   "version": "3.6.3"
  }
 },
 "nbformat": 4,
 "nbformat_minor": 2
}
