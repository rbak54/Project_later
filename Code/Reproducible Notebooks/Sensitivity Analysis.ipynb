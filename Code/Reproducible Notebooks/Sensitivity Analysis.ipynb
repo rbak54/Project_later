{
 "cells": [
  {
   "cell_type": "markdown",
   "metadata": {},
   "source": [
    "1. create explicit equation for R0  (constant temperature)\n",
    "2. find partial derivative wrt each component (symbol)\n",
    "3. divide this by R0 at mean values.\n",
    "4. compare relative size of this \n",
    "4. repeat for different sets of values"
   ]
  },
  {
   "cell_type": "markdown",
   "metadata": {},
   "source": [
    "$R0=\\frac{\\sigma}{\\sigma+\\mu} \\times \\frac {\\beta}{\\alpha+\\mu+\\gamma}\\\\ $  from Bjornstad   \n",
    "$ \\beta = c_r \\times  \\epsilon \\times  \\frac{\\frac{-1}{q}(1-e^{qd})}{\\frac{-1}{q}(1-e^{qd})+h}\\\\ $ - from my definition  \n",
    "$ \\alpha= \\frac{p}{1-p}(\\mu + \\gamma) $ to convert into fatality rate  \n",
    "$\\alpha+\\mu+\\gamma = \\frac{p}{1-p}(\\mu + \\gamma)+\\mu+\\gamma $  \n",
    "$\\alpha+\\mu+\\gamma = (\\frac{p}{1-p}+1)(\\mu + \\gamma) $  \n",
    "$\\alpha+\\mu+\\gamma = (\\frac{1}{1-p})(\\mu + \\gamma) $  \n",
    "\n",
    "$ R0= \\frac{\\sigma}{\\sigma + \\mu}  \\times \\frac{ c_r \\times \\epsilon \\times  \\frac{ \\frac{-1 }{ q} \\times (1 - e^{ q  d})}{\\frac{- 1}{q} \\times (1 - e^{ q d}) + h} }{(\\mu + \\gamma)\\frac{1}{1 - p}}$"
   ]
  },
  {
   "cell_type": "code",
   "execution_count": null,
   "metadata": {},
   "outputs": [],
   "source": []
  },
  {
   "cell_type": "code",
   "execution_count": 2,
   "metadata": {},
   "outputs": [
    {
     "ename": "ERROR",
     "evalue": "Error in eval(expr, envir, enclos): object 'mu' not found\n",
     "output_type": "error",
     "traceback": [
      "Error in eval(expr, envir, enclos): object 'mu' not found\nTraceback:\n"
     ]
    }
   ],
   "source": [
    "\n",
    "\n",
    "\n",
    "(sigma / (sigma + mu)) * c_r * epsilon *  (( (-1 / q) * (1 - exp( q * d)))/((- 1 / q) * (1 - exp( q * d)) + h)) / ((mu + gamma)*( 1 / ( 1 - p )))"
   ]
  },
  {
   "cell_type": "code",
   "execution_count": null,
   "metadata": {},
   "outputs": [],
   "source": []
  }
 ],
 "metadata": {
  "kernelspec": {
   "display_name": "R",
   "language": "R",
   "name": "ir"
  },
  "language_info": {
   "codemirror_mode": "r",
   "file_extension": ".r",
   "mimetype": "text/x-r-source",
   "name": "R",
   "pygments_lexer": "r",
   "version": "3.6.3"
  }
 },
 "nbformat": 4,
 "nbformat_minor": 2
}
