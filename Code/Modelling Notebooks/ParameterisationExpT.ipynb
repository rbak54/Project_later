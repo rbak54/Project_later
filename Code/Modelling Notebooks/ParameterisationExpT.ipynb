{
 "cells": [
  {
   "cell_type": "markdown",
   "metadata": {},
   "source": [
    "derivation of parameters"
   ]
  },
  {
   "cell_type": "markdown",
   "metadata": {},
   "source": [
<<<<<<< HEAD
    "equations for slides\n",
    "$\n",
    "\\frac{dS}{dt} = \\nu  N - \\frac{\\beta  I  S} {N} - \\mu S + f R\\\\\n",
    "  \\frac{dE}{dt}=  \\frac{\\beta  I  S} {N} - (\\sigma + \\mu) E\\\\\n",
    "\\frac{dI}{dt} = \\sigma  E - (\\mu + \\gamma)( \\frac{1}{1-p}) I\\\\ \n",
    "  \\frac{dR}{dt} = \\gamma I - \\mu R -f R \n",
    "\n",
    "\n",
    "\n",
    "\\beta = c_R   \\times  \\epsilon \\times  \\frac{\\frac{-1}{q}(1-e^{qd})}{\\frac{-1}{q}(1-e^{qd})+h} \n",
    "$ \n",
    "\n",
    "\n",
    "$ c_R(T)=max\\_cR \\times e^{\\frac{-(T - T\\_max\\_cR) ^ 2}{ 2 s ^ 2}}\\\\\n",
    "q(T)= q_0  e^{g T} $"
   ]
  },
  {
   "cell_type": "code",
   "execution_count": 25,
   "metadata": {},
   "outputs": [
    {
     "data": {
      "image/png": "iVBORw0KGgoAAAANSUhEUgAAA0gAAANICAMAAADKOT/pAAADAFBMVEUAAAABAQECAgIDAwME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\nc/cAAAAASUVORK5CYII=",
      "text/plain": [
       "plot without title"
      ]
     },
     "metadata": {
      "image/png": {
       "height": 420,
       "width": 420
      },
      "text/plain": {
       "height": 420,
       "width": 420
      }
     },
     "output_type": "display_data"
    }
   ],
   "source": [
    "x<-seq(-10,40,length.out = 10000)\n",
    "plot(x,-9.079*exp(0.085*x),\"s\",xlab=\"Temperature\",ylab=\"Growth Rate\")"
   ]
  },
  {
   "cell_type": "markdown",
   "metadata": {},
   "source": [
=======
>>>>>>> ff120799c5d88fbd160863e2338a9eced8242e35
    "# Parameterisation "
   ]
  },
  {
   "cell_type": "markdown",
   "metadata": {},
   "source": [
    "## Model\n",
    "  $\\frac{dS}{dt} = \\nu  N - \\frac{\\beta  I  S} {N} - \\mu S\\\\\n",
    "  \\frac{dE}{dt}=  \\frac{\\beta  I  S} {N} - (\\sigma + \\mu) E\\\\\n",
    "  \\frac{dI}{dt} = \\sigma  E - (\\alpha + \\mu + \\gamma) I\\\\\n",
    "  \\frac{dR}{dt} = \\gamma I - \\mu R $  \n",
    "\n",
    "### Parameterising $\\alpha$\n",
    "\n",
    "$ \\alpha=\\frac{p}{1-p}(\\mu + \\gamma)\\\\\n",
    "\\frac{dI}{dt} = \\sigma  E - (\\frac{p}{1-p}(\\mu + \\gamma)+ \\mu + \\gamma) I\\\\\n",
    "\\frac{dI}{dt} = \\sigma  E - (\\mu + \\gamma)(1+ \\frac{p}{1-p}) I\\\\\n",
    "\\frac{dI}{dt} = \\sigma  E - (\\mu + \\gamma)( \\frac{1}{1-p}) I\\\\ $\n",
    "\n",
    "\n",
    "### Beta\n",
    "- Much more information about beta term in \"SEIR model with mechanistic beta notebook \"  \n",
    "- $\\beta = c_r   \\times  \\epsilon \\times  \\frac{\\frac{1}{b}(1-e^{-bd})}{\\frac{1}{b}(1-e^{-bd})+h} $  \n",
    "- $\\beta=$ number contacts per unit time x probability of disease transmission per contact  \n",
    "- $[\\beta]=[c_r]=individual/(individual x day) \\times unitless $\n",
    "\n",
    "\n",
    "### Climate dependence\n",
    "- contact rate and mortality rate of virus are assumed to be climate dependent\n",
    "- $\\beta(C) = c_r(C)   \\times  \\epsilon \\times  \\frac{\\frac{1}{b(C)}(1-e^{-b(C)d})}{\\frac{1}{b(C)}(1-e^{-b(C)d})+h} $ \n",
    "- Guinea pig influenza transmission study (lowen 2008)is evidence that climate mediates transmission\n",
    "- Decision to assume d constant because the effect of this is minimal \n",
    "- $\\beta(c_R(C),b(C))$\n",
    " \n",
    " \n",
    " \n",
    " ### Contact Rate\n",
    "- This is based on a normal distribution scaled up so the maximum is the maximum contact rate.  \n",
    "- c_R(C)=maximum_contact_rate$\\times e^{\\frac{-(Combined\\_Climate - Climate\\_Maximum\\_Contact\\_Rate) ^ 2}{ 2 s ^ 2}}$  \n",
    "- s = (quantile_cr_upper - ClimateMaximumContactRate) OR s = -(quantile_cr_lower - Climate_Maximum_Contact_Rate)   depending on where Climate_Maximum_Contact_Rate lies. \n",
    "- Specificially lower quantile is used when Climate_Maximum_Contact_Rate is closer to the upper quartile than the lower quartile, and vice versa. \n",
    "\n",
    "### Mortality Rate \n",
    "\n",
    "- Use data about survival of virus over time to obtain the mortality rate at different climatic conditions. \n",
    "- then fit climate to mortality rate - quadratic, exponential or possibly linear\n",
    "- currently just using temperature but potential to use humidity as well later.\n",
    "- using nlslm to find b (rate of mortality) for each different combination of T and H \n",
    "- then use nlslm to fit an exponential model of q to temperature.\n",
    "- $ b= b_0  e^{g T}$\n",
    "- b0 is the rate of decay at 0 degrees c \n",
    "- g is the rate of growth of the rate of decay \n",
    "\n",
    "\n",
    "### Other Aspects\n",
    "- Model is frequency dependent - chapter 2 keeling and rohani and Bjornstaad 2002 dynamics of measles\n",
    "- Hill Function not modelled in this notebook , but may add later  \n",
    "    - $H=(1 - m\\times \\frac{I^3} {k^3 + I^3}) $\n"
   ]
  },
  {
   "cell_type": "markdown",
   "metadata": {},
   "source": [
    "## Table of parameters\n",
    "|Parameter|Meaning|Unit|Origin|Constant or Variable|\n",
    "|------|------|------|------|------|\n",
    "|$\\beta$     |transmission rate per infective    | individiaul/(individual x unit time)$^{-1}$   |Keeling and Rohani 2007|Function|\n",
    "|$S$     |number of susceptibles    |  individuals |Keeling and Rohani 2007|Variable- parameterisation not needed|\n",
    "|$E$     |number of exposed |  individuals  |Keeling and Rohani 2007|Variable- parameterisation not needed|\n",
    "|$I$     |number of infected     |  individuals |Keeling and Rohani 2007|Variable- parameterisation not needed|\n",
    "|$R$     |number of recovered    | individuals |Keeling and Rohani 2007|Variable- parameterisation not needed|\n",
    "|$N$     |number of individauls   | individuals |Keeling and Rohani 2007|Variable- parameterisation not needed|\n",
    "|$H$  |dimensionless hill function- containment |-|Neher 2020|Function -depends on I, m and k|\n",
    "|b | the rate of mortality/ decay of the virus| (1/time)|-q| Function- depends on temperature , b0 and g|\n",
    "|$c_r$ |contact rate per unit time  |(individuals/(individual x time)|valle 2013| Function  depending on max_contact_rate, Climate_max_contact_rate, quantile_cr and climate at point of interest|\n",
    "|$\\gamma$     |recovery rate - probably of recovery for an individual per unit time (reciprocal of infectious period)   |unit time$^{-1}$  |Keeling and Rohani 2007|Constant|\n",
    "|$\\mu$    |natural per capita death rate -not caused by disease|unit time$^{-1}$    |Keeling and Rohani 2007|Constant|\n",
    "|$\\alpha$    |disease induced mortality rate -caused by disease|unit time$^{-1}$    ||Constant|\n",
    "|$\\nu$    |natural per capita birth rate |unit time$^{-1}$  |Keeling and Rohani 2007|Constant|\n",
    "|$\\sigma$     |rate of movement from E to I (reciprocal of latent period)|unit time$^{-1}$|  Keeling and Rohani 2007|Constant|\n",
    "|$d$  |average contact duration|unit time|Valle 2013|Constant|\n",
    "|h | the expected duration of contact needed for tramsmission| (time)| ($1/\\zeta$- no of transmission events per unit time) from valle 2013|Constant|\n",
    "|$\\epsilon$|proportion of contacts that can cause transmission|proportion|valle 2013|Constant|\n",
    "|$N_0$     |initial number of individauls   | individuals |Keeling and Rohani 2007|Constant|\n",
    "|$m$ |containment parameter|-|Neher 2020|Constant|\n",
    "|$k$   |inflection point of Hill function||Neher 2020|Constant|\n",
    "|max_contact_rate|Maximum contact rate|1/unit time|-|Constant|\n",
    "|Climate_max_contact_rate|Climate at maximum contact rate|degrees C if temperature|-|Variable? set as constant and repeat at different values|\n",
    "|quantile_cr|Climate interval at which 95\\%  of the contact rates will fall between |-|-|Constant (lower and upper). May vary between areas, hopefully not significantly|\n",
    "|Climate|Climate value| degrees C for temperature|-|Variable|\n",
    "|range_C|Climate interval |-|-|Constant (lower and upper)|\n",
    "|$g$ |change in rate of decay with temp|$degree^{-1}$||Constant|\n",
    "|$b_0$ |rate of decay at 0 degrees c |$time$||Constant|\n",
    "|$p$|probability of dying of infection|-||Constant|\n",
    "\n",
    "units calculated from:  \n",
    "units of de/dt,ds/st,di/dt, dr/dt$N\\times$unit time$^{-1}$ \n"
   ]
  },
  {
   "cell_type": "markdown",
   "metadata": {},
   "source": [
    "## Table of parameters-Influenza\n",
    "|Parameter|Meaning|Unit|Origin|Constant or Variable|Value|Source|\n",
    "|------|------|------|------|------|------|------|\n",
    "|$\\beta$     |transmission rate per infective    | individiaul/(individual x day)$^{-1}$   |Keeling and Rohani 2007|Function|-|-|\n",
    "|$S$     |number of susceptibles    |  individuals |Keeling and Rohani 2007|Variable|parameterisation not needed|-|\n",
<<<<<<< HEAD
    "|$E$     |number of exposed |  individuals  |Keeling and Rohani 2007|Variable| parameterisation not needed|-|\n",
=======
    "|$E$     |number of eModelxposed |  individuals  |Keeling and Rohani 2007|Variable| parameterisation not needed|-|\n",
>>>>>>> ff120799c5d88fbd160863e2338a9eced8242e35
    "|$I$     |number of infected     |  individuals |Keeling and Rohani 2007|Variable| parameterisation not needed|-|\n",
    "|$R$     |number of recovered    | individuals |Keeling and Rohani 2007|Variable |parameterisation not needed|-|\n",
    "|$N$     |number of individauls   | individuals |Keeling and Rohani 2007|Variable|parameterisation not needed|-|\n",
    "|$H$  |dimensionless hill function- containment |-|Neher 2020|Function |depends on I, m and k|-|\n",
    "|Climate|Climate value| degrees C for temperature|-|Variable|-|-|\n",
    "|range_C|Climate interval |-|-|Constant (lower and upper)|depends on country|-|\n",
    "|$c_r$ |contact rate per unit time  |(individuals/(individual x time)|valle 2013| Function | depends on max_contact_rate, Climate_max_contact_rate, quantile_cr and climate at point of interest|-|\n",
    "|$\\gamma$     |recovery rate - probably of recovery for an individual per unit time (reciprocal of infectious period)   |day$^{-1}$  |Keeling and Rohani 2007|Constant|0.26,0.24|cauchemez 2004,Longini 2005 using Elveback 1976|\n",
    "|$\\mu$    |natural per capita death rate -not caused by disease|day$^{-1}$    |Keeling and Rohani 2007|Constant|2.05 e-5 |https://population.un.org/wpp/ |\n",
    "|$\\alpha$    |disease induced mortality rate -caused by disease|day$^{-1}$    |bjornstad, keeling and rohani|Constant|depends on $\\mu$,$p$ and $\\gamma$ |-|\n",
    "|$\\nu$    |natural per capita birth rate |day$^{-1}$  |Keeling and Rohani 2007|Constant|5.07 e-5|https://population.un.org/wpp/ |\n",
    "|$\\sigma$     |rate of movement from E to I (reciprocal of latent period)|day$^{-1}$|  Keeling and Rohani 2007|Constant|0.5, 0.68,0.83|https://www.who.int/news-room/fact-sheets/detail/influenza-(seasonal), Ferguson 2005, Longini 2005 using Elveback 1976|\n",
    "|$d$  |average contact duration|days|Valle 2013|Constant|4/24|POLYMOD|\n",
<<<<<<< HEAD
    "|h | the expected duration of contact needed for tramsmission| (day)| ($1/\\zeta$- no of transmission events per unit time) from valle 2013|Constant|1 minute to 1 hours???, 1/3?|valle works backwards from data to get 3 for eta but much more complex model|\n",
=======
    "|h | the expected duration of contact needed for tramsmission| (day)| ($1/\\zeta$- no of transmission events per unit time) from valle 2013|Constant|?|-|\n",
>>>>>>> ff120799c5d88fbd160863e2338a9eced8242e35
    "|$\\epsilon$|proportion of contacts that can cause transmission|proportion|valle 2013|Constant|?|-|\n",
    "|$N_0$     |initial number of individauls   | individuals |Keeling and Rohani 2007|Constant|depends on country|-|\n",
    "|$m$ |containment parameter|-|Neher 2020|Constant|?|-|\n",
    "|$k$   |inflection point of Hill function||Neher 2020|Constant|?|-|\n",
    "|max_contact_rate|Maximum contact rate|1/day|-|Constant|26.97|Hoang et al 2019|\n",
    "|Climate_max_contact_rate|Climate at maximum contact rate|degrees C if temperature|-|Variable? |set as constant and repeat at different values (in climate range|-|\n",
    "|quantile_cr|Climate interval at which 95\\%  of the contact rates will fall between |-|-|Constant (lower and upper)|set to min and max range_C?|-|\n",
    "|b | the rate of mortality/ decay of the virus| (1/day)|-q| Function |function of b0, g, temp|data from harper 1961 |\n",
<<<<<<< HEAD
    "|$g$ |change in rate of decay with temp|$degree^{-1}$||Constant|0.085 (or 0.164 if no limits)|Harper 1961 data and finding q script|\n",
    "|$b_0$ |rate of decay at 0 degrees c |$time$||Constant|9.079 (or 0.572 if no limits)|Harper 1961 data|\n",
    "|$p$|probability of dying of infection|-|Keeling and Rohani|Constant|0.1% poss to 0.2% li et al 2008 apparently from who|\n",
=======
    "|$g$ |change in rate of decay with temp|$degree^{-1}$||Constant|0.085|Harper 1961 data|\n",
    "|$b_0$ |rate of decay at 0 degrees c |$time$||Constant|9.079|Harper 1961 data|\n",
    "|$p$|probability of dying of infection|-|Keeling and Rohani|Constant|\n",
>>>>>>> ff120799c5d88fbd160863e2338a9eced8242e35
    "\n",
    "units calculated from:  \n",
    "units of de/dt,ds/st,di/dt, dr/dt$N\\times$unit time$^{-1}$ \n"
   ]
  },
  {
   "cell_type": "markdown",
   "metadata": {},
   "source": [
    "## Parameter values\n",
    "time is a day\n"
   ]
  },
  {
   "cell_type": "markdown",
   "metadata": {},
   "source": [
    "### $\\gamma$  \n",
    "#### Meaning\n",
    "recovery rate - probably of recovery for an individual per unit time (reciprocal of infectious period)\n",
    "#### Influenza\n",
    "cauchemez 2004 used a bayesian approach with longitudional household data (334 households) and estimated the mean infection duration at 3.8 days. \n",
    "using this the recovery rate would be 1/3.8 days\n",
    "#### Covid\n",
    "Meadian recovery time is 21 days(Quifang Bi, lancet infectious diseases)\n",
    "median duration for carrying SARS-CoV-2 is 20 days but can be a lot longer - Journal of Infection 81 (2020) e78–e79\n",
    "see also To 2020, chen and li 2020\n",
    "milder cases appear to have detectable virus load for less time ~10 days-lui et al 2020\n",
    "estimate for gamma is 1/20 (larger sample size)\n",
    "\n",
    "### $\\sigma$\n",
    "#### Meaning\n",
    "rate of movement from E to I (reciprocal of latent period).\n",
    "Assume that incubation period is the same as latent period, although not strictly true\n",
    "\n",
    "#### Influenza\n",
    "average incubation period is 2 days, so rate of movement is 1/2=0.5\n",
    "https://www.who.int/news-room/fact-sheets/detail/influenza-(seasonal)\n",
    "#### Covid\n",
    "very varied but median of average 5 days (lauer 2020). so estimate rate of movement of 1/5\n",
    "\n",
    "\n",
    "### p\n",
    "#### Meaning\n",
    "probability of dying from infection\n",
    "#### Influenza\n",
    "very low, approximately 0.1% from usa data https://www.cdc.gov/flu/about/burden/past-seasons.html\n",
    "#### Covid\n",
    "https://www.who.int/dg/speeches/detail/who-director-general-s-opening-remarks-at-the-media-briefing-on-covid-19---3-march-2020 - 3.4% butpossiby an overestimate\n",
    "from new york deaths - estimates of number of cases  and number of deaths from data -1.4 %  (look into more (https://www.worldometers.info/coronavirus/coronavirus-death-rate/#study\n",
    "From Diamon Princess cruise- 0.99%. Earlier data like this may be most accurate because better surviellance. \n",
    "Similarly, Onder 2020 observes that the republic of korea has widespread testing and had a lower death rate (1%) than china (2.3%) italy (7.2%)  https://www.who.int/docs/default-source/coronaviruse/situation-reports/20200317-sitrep-57-covid-19.pdf?sfvrsn=a26922f2_2 ; \n",
    "### $d$ \n",
    "#### Meaning\n",
    "average contact duration.\n",
    "This is likely to vary between areas. However could use the polymod study (categorical) to find the most frequent time interval. This is the 4h+ category, so could estimate. 4/24 days \n",
    "#### Influenza\n",
    "#### Covid\n",
    "\n",
    "\n",
    "\n",
    "### h\n",
    "contact duration needed to cause infection- may not be able to parameterise\n",
    "#### Meaning\n",
    "#### Influenza\n",
    "#### Covid\n",
    "\n",
    "\n",
    "\n",
    "### $\\epsilon$\n",
    "maximum infectivity of a contact. not able to parameterise\n",
    "#### Meaning\n",
    "#### Influenza\n",
    "#### Covid\n",
    "\n",
    "\n",
    "\n",
    "### $N_0$\n",
    "#### Meaning\n",
    "Inital population size. Could use population data for individual countries. OR set to 1 . read textbook for more about mass action vs frequency dependent\n",
    "#### Value\n",
    "\n",
    "\n",
    "\n",
    "### $m$ \n",
    "#### Meaning\n",
    "Probably only relevant to covid or a major epidemic\n",
    "#### Value\n",
    "\n",
    "\n",
    "\n",
    "### $k$ \n",
    "#### Meaning\n",
    "Probably only relevant to covid or a major epidemic\n",
    "#### Value\n",
    "\n",
    "\n",
    "\n",
    "\n",
    "7.756152"
   ]
  },
  {
   "cell_type": "markdown",
   "metadata": {},
   "source": [
    "### $\\mu$  death rate\n",
    "#### Meaning\n",
    "Natural per capita death rate\n",
    "#### Values\n",
    "between about 1 per 1000 and 15 per 1000.0.001-0.015 so 2.74e-6 to 4.11e-5 per day. Vary a lot temporally and spatially. \n",
    "Take this into account if fitting to influenza data. May have to assume constant. world death rate is 7.5/1000 per year so 2.05e-5 (2015-2020 period)\n",
    "https://population.un.org/wpp/ ; https://www.macrotrends.net/countries/ARE/uae/death-rate\n",
    "Assuming $\\mu=\\nu$ may help to simplify\n",
    "### $\\nu$ birth rate\n",
    "#### Meaning\n",
    "Natural per capita birth rate \n",
    "#### Values\n",
    "between about 7 per 1000 and 20 per 1000.- est 0.007-0.02 per year. So 1.92e-5-5.48e-5 per day  Vary a lot temporally and spatially.Take this into account if fitting to influenza data. May have to assume constant and equal to mu.https://population.un.org/wpp/ ; https://www.macrotrends.net/countries/ARE/uae/death-rate\n",
    "world birth rate is 18.5/1000 per year so world birth rate is 5.07e-5(2015-2020 period)"
   ]
  },
  {
   "cell_type": "markdown",
   "metadata": {},
   "source": [
    "### max_contact_rate\n",
    "#### Meaning\n",
    "The maximum *mean* contact rate (per day). i.e when the temperature is most conducive to social contact, this will be the mean contact rate. \n",
    "#### Value\n",
    "From polymod study  and leung 2017 , very high variance, and left skewed.\n",
    "Options\n",
    "- estimate from polumod-using polymod study, removed top 5% of daily contact numbers, leading to  a maximum contact rate of 35.\n",
    "- Use mean from polymod as the maximum- this is 13. \n",
    "- there is considerable variance between studies and locations. Could take mean from multiple studies and use the maximum of these. This seems most reasonable. \n",
    "    - just using polymod, country with maximum is italy with 19.5 contacts. might just use polymod because more consistent methods. or look at what leung said was average\n",
    "     -alternatively - A Systematic Review of Social Contact Surveys to Inform Transmission Models of Close-contact Infections- Hoang et al 2019 - includes polymod and other surveys and finds that the maximum (prospective) number of contacts is 26.97 in the UK in a later study. (or keep just using polymod because countries are more comparable to one another)\n",
    "\n",
    "\n",
    "\n",
    "### Climate_max_contact_rate\n",
    "#### Meaning\n",
    "The climate value at the max_contact_rate. This is varied at different level of mismatch\n",
    "#### Value\n",
    "Will just be between lower and upper range_C\n",
    "\n",
    "\n",
    "\n",
    "### quantile_cr\n",
    "#### Meaning\n",
    "climate that 95% fall into  . same as range_C\n",
    "\n",
    "#### Value\n",
    "- I'm thinking it would make the most sense for the quantiles to be the min and max climate for that particular country. - otherwise understanding mismatch is skewed by different mean contact rates.\n",
    "\n",
    "\n",
    "\n",
    "### range_C\n",
    "#### Meaning\n",
    "Range of mean climates (eg mean temperatrue) over a year. min-max. This is likely to vary between countries.\n",
    "#### Value\n",
    "depends if temp or combined??\n",
    "with current survival data , ought to be combined. so take min and max T and H and find min and max C using lm coefficients\n",
    "\n",
    "### Climate\n",
    "climate variable "
   ]
  },
  {
   "cell_type": "code",
   "execution_count": 3,
   "metadata": {},
   "outputs": [
    {
     "data": {
      "text/html": [
       "1"
      ],
      "text/latex": [
       "1"
      ],
      "text/markdown": [
       "1"
      ],
      "text/plain": [
       "[1] 1"
      ]
     },
     "metadata": {},
     "output_type": "display_data"
    },
    {
     "data": {
      "text/html": [
       "44"
      ],
      "text/latex": [
       "44"
      ],
      "text/markdown": [
       "44"
      ],
      "text/plain": [
       "[1] 44"
      ]
     },
     "metadata": {},
     "output_type": "display_data"
    }
   ],
   "source": [
    "#Estimating mean contact duration\n",
    "\n",
    "#Italy_participants\n",
    "\n",
    "\n",
    "data(\"polymod\")\n",
    "data <- polymod$contacts\n",
    "contact_table <- table(data$part_id, data$duration_multi)\n",
    "#seems to be shifted \n",
    "del <- as.numeric(names(which(contact_table[, 1] > 0)))\n",
    "data <- data[which(data$part_id != del), ]\n",
    "contact_table <- table(data$part_id, data$duration_multi)\n",
    "con <- as.matrix(contact_table)\n",
    "#midpoints <- c(2.5, 10, 15 + (60 - 45) / 2, 150, 4 * 60)\n",
    "#time <- midpoints * con / 60\n",
    "#timebyrow <- apply(time, 1, sum)\n",
    "#meancont<-mean(timebyrow)\n",
    "#maxcont<-meancont+2*sqrt(var(timebyrow))\n",
    "\n",
    "#max(timebyrow)\n",
    "#min(timebyrow)\n",
    "timebyrow <- rowSums(con)\n",
    "ordered_frequencies<-sort(timebyrow)\n",
    "N_participants<-length(ordered_frequencies)\n",
    "#N_participants\n",
    "remove<-floor(N_participants*0.025)\n",
    "mid_95<-ordered_frequencies[-c(1:remove,(N_participants-(remove-1)):N_participants)]\n",
    "min(mid_95)\n",
    "max(mid_95)\n",
    "#max(timebyrow)\n",
    "remove<-floor(N_participants*0.05)\n",
    "top_95<-ordered_frequencies[-c((N_participants-(remove-1)):N_participants)]\n",
    "#max(top_95)\n",
    "#bottom_remove<-ordered_frequencies[-c(1:remove)]\n",
    "meancontactno<-mean(timebyrow)\n",
    "#meancontactno\n",
    "\n",
    "varcontactno<-var(timebyrow)\n",
    "#varcontactno\n",
    "numberbycol<- colSums(con)\n",
    "#numberbycol\n",
    "#most frequently- 4h+ so est 4h?\n",
    "\n"
   ]
<<<<<<< HEAD
  },
  {
   "cell_type": "markdown",
   "metadata": {},
   "source": [
    "## Table of parameters\n",
    "|Parameter|Meaning|Unit|Origin|Constant or Variable|\n",
    "|------|------|------|------|------|\n",
    "|$\\beta$     |transmission rate per infective    | individiaul/(individual x unit time)$^{-1}$   |Keeling and Rohani 2007|Function|\n",
    "|$S$     |number of susceptibles    |  individuals |Keeling and Rohani 2007|Variable |\n",
    "|$E$     |number of exposed |  individuals  |Keeling and Rohani 2007|Variable- |\n",
    "|$I$     |number of infected     |  individuals |Keeling and Rohani 2007|Variable|\n",
    "|$R$     |number of recovered    | individuals |Keeling and Rohani 2007|Variable |\n",
    "|$\\gamma$     |recovery rate - probably of recovery for an individual per unit time (reciprocal of infectious period)   |unit time$^{-1}$  |Keeling and Rohani 2007|Constant|\n",
    "|$\\mu$    |natural per capita death rate -not caused by disease|unit time$^{-1}$    |Keeling and Rohani 2007|Constant|\n",
    "|$\\alpha$    |disease induced mortality rate -caused by disease|unit time$^{-1}$    ||Constant|\n",
    "|$\\nu$    |natural per capita birth rate |unit time$^{-1}$  |Keeling and Rohani 2007|Constant|\n",
    "|$\\sigma$     |rate of movement from E to I (reciprocal of latent period)|unit time$^{-1}$|  Keeling and Rohani 2007|Constant|\n",
    "|$p$|probability of dying of infection|-||Constant|\n",
    "\n",
    "|Parameter|Meaning|Unit|Origin|Constant or Variable|\n",
    "|------|------|------|------|------|\n",
    "|$d$  |average contact duration|unit time|Valle 2013|Constant|\n",
    "|$h$ | the expected duration of contact needed for transmission|time| modified from valle 2013|Constant|\n",
    "|$\\epsilon$|proportion of contacts that can cause transmission|proportion|valle 2013|Constant|\n",
    "|q | the rate of mortality of the virus| (1/time)|| Function- |\n",
    "|$c_r$ |contact rate per unit time  |(individuals/(individual x time)|valle 2013| Function  |\n",
    "|m_c[2]|Maximum contact rate|1/unit time|-|Constant|\n",
    "|m_c[1]|Climate at maximum contact rate|degrees C|-|Variable|\n",
    "|range_C|Climate interval |-|-|Constant (lower and upper)|\n",
    "|contact range|Climate interval at which 95\\%  of the contact rates will fall between |-|-|Constant; assumed to be range_C|\n",
    "|$g$ |change in rate of decay with temp|$degree^{-1}$||Constant|\n",
    "|$q_0$ |rate of mortality at 0 degrees c |$time$||Constant|\n",
    "\n",
    "units calculated from:  \n",
    "units of de/dt,ds/st,di/dt, dr/dt$N\\times$unit time$^{-1}$ "
   ]
  },
  {
   "cell_type": "code",
   "execution_count": null,
   "metadata": {},
   "outputs": [],
   "source": []
=======
>>>>>>> ff120799c5d88fbd160863e2338a9eced8242e35
  }
 ],
 "metadata": {
  "kernelspec": {
   "display_name": "R",
   "language": "R",
   "name": "ir"
  },
  "language_info": {
   "codemirror_mode": "r",
   "file_extension": ".r",
   "mimetype": "text/x-r-source",
   "name": "R",
   "pygments_lexer": "r",
   "version": "3.6.3"
  }
 },
 "nbformat": 4,
 "nbformat_minor": 2
}
