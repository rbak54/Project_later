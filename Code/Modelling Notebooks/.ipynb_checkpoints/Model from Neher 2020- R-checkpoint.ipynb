{
 "cells": [
  {
   "cell_type": "markdown",
   "metadata": {},
   "source": [
    "# Simplified version of Neher's Model in R"
   ]
  },
  {
   "cell_type": "markdown",
   "metadata": {},
   "source": [
    "Neher 2020 has a more complicated model- include migration, different climatic regions and variation in parameters according to the region\n",
    "\n",
    "python vs r? I like having my own function for the ode as I have in python here. \n",
    "Number vs proportions? Both here- as Neher uses proportions"
   ]
  },
  {
   "cell_type": "markdown",
   "metadata": {},
   "source": [
    "## Numbers "
   ]
  },
  {
   "cell_type": "markdown",
   "metadata": {},
   "source": [
    "$\\beta_t = \\beta_0  (1 + \\epsilon \\cos (2 \\pi (time - \\theta)))(1 - containment \\times \\frac{I^3} {k^3 + I^3}) \\\\\n",
    "  infection = \\frac{\\beta_t  I  S} {N} \\\\\n",
    "  \\frac{dS}{dt} = \\nu  N - infection - \\mu S\\\\\n",
    "  \\frac{dE}{dt}= infection - (\\sigma + \\mu) E\\\\\n",
    "  \\frac{dI}{dt} = \\sigma  E - (\\alpha + \\mu + \\gamma) I\\\\\n",
    "  \\frac{dR}{dt} = \\gamma I - \\mu R $\n",
    " "
   ]
  },
  {
   "cell_type": "code",
   "execution_count": 9,
   "metadata": {},
   "outputs": [
    {
     "name": "stderr",
     "output_type": "stream",
     "text": [
      "Loading required package: epimdr\n",
      "Loading required package: shiny\n",
      "Loading required package: deSolve\n",
      "Loading required package: polspline\n"
     ]
    }
   ],
   "source": [
    "require(\"epimdr\")"
   ]
  },
  {
   "cell_type": "code",
   "execution_count": 14,
   "metadata": {},
   "outputs": [],
   "source": [
    "plottime <- function(start, time, model, parms) {\n",
    "  out = ode(\n",
    "    y = start,\n",
    "    time = time,\n",
    "    func = model,\n",
    "    parms = parms\n",
    "  )\n",
    "  Nvec<-out[, \"S\"] + out[, \"E\"] + out[, \"I\"] + out[, \"R\"]\n",
    "  out<-cbind( out, Nvec)\n",
    "  plot(x = out[, \"time\"],    y = out[, \"S\"],    ylab = \"Number\",   xlab = \"Time\",    type = \"l\",   xlim=c(min(time), max(time)), ylim=c(0, parms[[\"N\"]]))\n",
    "  lines(x = out[, \"time\"], y = out[, \"E\"], col = \"orange\")\n",
    "  lines(x = out[, \"time\"], y = out[, \"I\"], col = \"red\")\n",
    "  lines(x = out[, \"time\"], y = out[, \"R\"], col = \"green\")\n",
    "  lines(x = out[, \"time\"], y = out[, \"Nvec\"], col = \"purple\")  \n",
    "  legend( \"bottomright\",legend = c(\"S\", \"E\", \"I\", \"R\",\"N\"), col = c(\"black\", \"orange\", \"red\", \"green\",\"purple\"),lty = 1,    cex = 0.8\n",
    "  )\n",
    "}"
   ]
  },
  {
   "cell_type": "code",
   "execution_count": 15,
   "metadata": {},
   "outputs": [
    {
     "data": {
      "image/png": "[encoded data removed]",
      "text/plain": [
       "plot without title"
      ]
     },
     "metadata": {},
     "output_type": "display_data"
    }
   ],
   "source": [
    "model <- function(time, values, parms) {\n",
    "  #function where c changes with the climate and humidity at each timepoint\n",
    "  #initial values\n",
    "  S <- values[1]\n",
    "  E <- values[2]\n",
    "  I <- values[3]\n",
    "  R <- values[4]\n",
    "  #parameters\n",
    "  #kappa0 <- parms[[\"kappa0\"]]\n",
    "  mu <- parms[[\"mu\"]]\n",
    "  sigma <- parms[[\"sigma\"]]\n",
    "  alpha <- parms[[\"alpha\"]]\n",
    "  gamma <- parms[[\"gamma\"]]\n",
    "  contact <- parms[[\"contact\"]]\n",
    "  #temp and humidity are vectors in this model\n",
    "  f <- parms[[\"f\"]]\n",
    "  nu <- parms[[\"nu\"]]\n",
    "  N <- parms[[\"N\"]]\n",
    "  theta <- parms[[\"theta\"]]\n",
    "  containment <- parms[[\"containment\"]]\n",
    "  k <- parms[[\"k\"]]\n",
    "  epsilon <- parms[[\"epsilon\"]]\n",
    "  beta0 <- parms[[\"beta0\"]]\n",
    "  #model\n",
    "  \n",
    "  #seir model with varying beta values\n",
    "  betat<- beta0 * (1 + epsilon * cos (2 * pi * (time - theta))) * (1 - containment * I^3 / (k^3 + I^3))\n",
    "  infection <- betat * I * S / N \n",
    "  dS = nu * N - infection - mu * S\n",
    "  dE = infection - (sigma + mu) * E\n",
    "  dI = sigma * E - (alpha + mu + gamma) * I\n",
    "  dR = gamma * I - mu * R \n",
    " \n",
    "\n",
    "  list(c(dS, dE, dI, dR))\n",
    "}\n",
    "\n",
    "\n",
    "time = seq(2020, 2022, by = 0.001)\n",
    "#parameters from bjornstad book and guesses- just to test functions work! not sure if this is quite right\n",
    "parms = list(\n",
    "  mu = 0,\n",
    "  alpha = 0.00, \n",
    "  f = 2,\n",
    "  N = 1000,\n",
    "  nu = 0.0,\n",
    "    \n",
    "  theta = 0 ,# where from,\n",
    "  containment = 0.5 , #where from\n",
    "  k = 0.03,\n",
    "  epsilon = 0.4, #where from\n",
    "  R0 = 2 ,\n",
    "  beta0 = 2 * 72 , # where nos from\n",
    "  sigma = 365/5 ,\n",
    "  gamma = 72 )\n",
    "                                    \n",
    "start = c(S = parms[[\"N\"]]-5,\n",
    "          E = 0.00 ,\n",
    "          I = 5,\n",
    "          R = 0)\n",
    "plottime(\n",
    "  time = time,\n",
    "  parms = parms,\n",
    "  start = start,\n",
    "  model = model\n",
    ")\n",
    "\n",
    "\n",
    " out = ode(\n",
    "    y = start,\n",
    "    time = time,\n",
    "    func = model,\n",
    "    parms = parms\n",
    "  )\n",
    "\n"
   ]
  },
  {
   "cell_type": "markdown",
   "metadata": {},
   "source": [
    "\n",
    "### Parameter table - Number\n",
    "|Parameter|Meaning|Unit|Origin|\n",
    "|------|------|------|------|\n",
    "|$\\alpha$     |rate of disease induced mortality (per capita?)   |$year^{-1}$|Bjørnstad 2018|\n",
    "|$\\beta$     |transmission rate per infective per day    | $year^{-1}$   |Keeling and Rohani 2007|\n",
    "|$\\beta_0$     |average annual infection rate|$year^{-1}$     |Neher 2020|\n",
    "|$\\gamma$     |recovery rate per year- probably of recovery for an individual per day (reciprocal of infectious period)   |$year^-1$|Keeling and Rohani 2007|\n",
    "|$\\mu$    |natural per capita death rate -not caused by disease|$day^-1$  |Keeling and Rohani 2007|\n",
    "|$\\nu$    |natural per capita birth rate |$year^{-1}$ |Keeling and Rohani 2007|\n",
    "|$\\sigma$     |rate of movement from E to I (reciprocal of latent period)|$year^-1$|Keeling and Rohani 2007|\n",
    "|$S$     |number of susceptibles    | $individuals^{-1}$   |Keeling and Rohani 2007|\n",
    "|$E$     |number of exposed |  $individuals^{-1}$    |Keeling and Rohani 2007|\n",
    "|$I$     |number of infected     |$individuals^{-1}$   |Keeling and Rohani 2007|\n",
    "|$R$     |number of recovered    |  $individuals^{-1}$  |Keeling and Rohani 2007|\n",
    "|$temp$  |temperature |degrees c|-|\n",
    "|$humidity$   |relative humidity|%|-|\n",
    "|$containment$ |containment parameter||Neher 2020|\n",
    "|$k$   |inflection point of Hill function||Neher 2020|\n",
    "|$\\epsilon$   |amplitude of seasonal forcing||Neher 2020|\n",
    "|$\\theta$  |time of peak transmissability||Neher 2020|\n",
    "\n",
    "kappa not used in these models but :|$\\kappa$   |average number of contacts per individual per unit time|$year^-1$ |Keeling and Rohani 2007|\n",
    "\n",
    "units calculated from:  \n",
    "units of de/dt,ds/st,di/dt, dr/dt $ individuals \\times year^{-1}$ "
   ]
  },
  {
   "cell_type": "markdown",
   "metadata": {},
   "source": [
    "## Proportion"
   ]
  },
  {
   "cell_type": "markdown",
   "metadata": {},
   "source": [
    "$\\beta_t = \\beta_0  (1 + \\epsilon \\cos (2 \\pi (time - \\theta)))(1 - containment \\times \\frac{I^3} {k^3 + I^3}) \\\\\n",
    "  infection = \\beta_t  I  S\\\\\n",
    "  \\frac{dS}{dt} = \\nu - infection - \\mu S\\\\\n",
    "  \\frac{dE}{dt}= infection - (\\sigma + \\mu) E\\\\\n",
    "  \\frac{dI}{dt} = \\sigma  E - (\\alpha + \\mu + \\gamma) I\\\\\n",
    "  \\frac{dR}{dt} = \\gamma I - \\mu R $\n",
    " "
   ]
  },
  {
   "cell_type": "markdown",
   "metadata": {},
   "source": [
    "here, S, E, I and R represent proportions in these categores  (S=X/N) where X is the true number of susceptibles and N is the population"
   ]
  },
  {
   "cell_type": "code",
   "execution_count": 19,
   "metadata": {},
   "outputs": [],
   "source": [
    "plottime <- function(start, time, model, parms) {\n",
    "  out = ode(\n",
    "    y = start,\n",
    "    time = time,\n",
    "    func = model,\n",
    "    parms = parms\n",
    "  )\n",
    "  Nvec<-out[, \"S\"] + out[, \"E\"] + out[, \"I\"] + out[, \"R\"]\n",
    "  out<-cbind( out, Nvec)\n",
    "  plot(x = out[, \"time\"],    y = out[, \"S\"],    ylab = \"Number\",   xlab = \"Time\",    type = \"l\",   xlim=c(min(time), max(time)),  ylim=c(0, parms[[\"N\"]])\n",
    "  )\n",
    "  lines(x = out[, \"time\"], y = out[, \"E\"], col = \"orange\")\n",
    "  lines(x = out[, \"time\"], y = out[, \"I\"], col = \"red\")\n",
    "  lines(x = out[, \"time\"], y = out[, \"R\"], col = \"green\")\n",
    "  lines(x = out[, \"time\"], y = out[, \"Nvec\"], col = \"purple\")  \n",
    "  legend( \"bottomright\",legend = c(\"S\", \"E\", \"I\", \"R\",\"N\"), col = c(\"black\", \"orange\", \"red\", \"green\",\"purple\"),lty = 1,    cex = 0.8\n",
    "  )\n",
    "}"
   ]
  },
  {
   "cell_type": "code",
   "execution_count": 36,
   "metadata": {},
   "outputs": [
    {
     "data": {
      "image/png": "[encoded data removed]",
      "text/plain": [
       "plot without title"
      ]
     },
     "metadata": {},
     "output_type": "display_data"
    }
   ],
   "source": [
    "model <- function(time, values, parms) {\n",
    "  #function where c changes with the climate and humidity at each timepoint\n",
    "  #initial values\n",
    "  S <- values[1]\n",
    "  E <- values[2]\n",
    "  I <- values[3]\n",
    "  R <- values[4]\n",
    "  #parameters\n",
    "  #kappa0 <- parms[[\"kappa0\"]]\n",
    "  mu <- parms[[\"mu\"]]\n",
    "  sigma <- parms[[\"sigma\"]]\n",
    "  alpha <- parms[[\"alpha\"]]\n",
    "  gamma <- parms[[\"gamma\"]]\n",
    "  contact <- parms[[\"contact\"]]\n",
    "  #temp and humidity are vectors in this model\n",
    "  f <- parms[[\"f\"]]\n",
    "  nu <- parms[[\"nu\"]]\n",
    "  N <- parms[[\"N\"]]\n",
    "  theta <- parms[[\"theta\"]]\n",
    "  containment <- parms[[\"containment\"]]\n",
    "  k <- parms[[\"k\"]]\n",
    "  epsilon <- parms[[\"epsilon\"]]\n",
    "  beta0 <- parms[[\"beta0\"]]\n",
    "  #model\n",
    "  \n",
    "  #seir model with varying beta values\n",
    "  betat<- beta0 * (1 + epsilon * cos (2 * pi * (time - theta))) * (1 - containment * I^3 / (k^3 + I^3))\n",
    "  infection <- betat * I * S  \n",
    "  dS = nu - infection - mu * S\n",
    "  dE = infection - (sigma + mu) * E\n",
    "  dI = sigma * E - (alpha + mu + gamma) * I\n",
    "  dR = gamma * I - mu * R \n",
    " \n",
    "\n",
    "  list(c(dS, dE, dI, dR))\n",
    "}\n",
    "\n",
    "\n",
    "time = seq(2020, 2022, by = 0.001)\n",
    "#parameters from bjornstad book and guesses- just to test functions work! not sure if this is quite right\n",
    "parms = list(\n",
    "  mu = 0,\n",
    "  alpha = 0.0000, \n",
    "  f = 2,\n",
    "  N = 1,\n",
    "  nu = 0.0,\n",
    "    \n",
    "  theta = 0 ,# where from,\n",
    "  containment = 0.5 , #where from\n",
    "  k = 0.3,\n",
    "  epsilon = 0.4, #where from\n",
    "  R0 = 2 ,\n",
    "  beta0 = 2 * 72 , # where nos from\n",
    "  sigma = 365/5 ,\n",
    "  gamma = 72 )\n",
    "                                    \n",
    "start = c(S = 1,\n",
    "          E = 0.00 ,\n",
    "          I = 30/1e7,\n",
    "          R = 0)\n",
    "plottime(\n",
    "  time = time,\n",
    "  parms = parms,\n",
    "  start = start,\n",
    "  model = model\n",
    ")"
   ]
  },
  {
   "cell_type": "code",
   "execution_count": null,
   "metadata": {},
   "outputs": [],
   "source": [
    "parms = list(\n",
    "  mu = 0,\n",
    "  alpha = 0.0000, \n",
    "  f = 2,\n",
    "  N = 1,\n",
    "  nu = 0.0,\n",
    "    \n",
    "  theta = 0 ,# where from,\n",
    "  containment = 0 , #where from\n",
    "  k = 0.0,\n",
    "  epsilon = 0.4, #where from\n",
    "  R0 = 2 ,\n",
    "  beta0 = 2 * 72 , # where nos from\n",
    "  sigma = 365/5 ,\n",
    "  gamma = 72 )\n",
    "                                    \n",
    "start = c(S = 1,\n",
    "          E = 0.00 ,\n",
    "          I = 30/1e7,\n",
    "          R = 0)\n",
    "plottime(\n",
    "  time = time,\n",
    "  parms = parms,\n",
    "  start = start,\n",
    "  model = model\n",
    ")"
   ]
  },
  {
   "cell_type": "markdown",
   "metadata": {},
   "source": [
    "### Parameter table  - Proportion\n",
    "|Parameter|Meaning|Unit|Origin|\n",
    "|------|------|------|------|\n",
    "|$\\alpha$     |rate of disease induced mortality (per capita?)   |$year^{-1}$|Bjørnstad 2018|\n",
    "|$\\beta$     |transmission rate per infective per day    | $year^{-1}$   |Keeling and Rohani 2007|\n",
    "|$\\beta_0$     |average annual infection rate|$year^{-1}$     |Neher 2020|\n",
    "|$\\gamma$     |recovery rate per year- probably of recovery for an individual per day (reciprocal of infectious period)   |$year^-1$|Keeling and Rohani 2007|\n",
    "|$\\mu$    |natural per capita death rate -not caused by disease|$day^-1$  |Keeling and Rohani 2007|\n",
    "|$\\nu$    |natural per capita birth rate |$year^{-1}$ |Keeling and Rohani 2007|\n",
    "|$\\sigma$     |rate of movement from E to I (reciprocal of latent period)|$year^-1$|Keeling and Rohani 2007|\n",
    "|$S$     |proportion of susceptibles    |    |Keeling and Rohani 2007|\n",
    "|$E$     |proportion of exposed |     |Keeling and Rohani 2007|\n",
    "|$I$     |proportion of infected     |  |Keeling and Rohani 2007|\n",
    "|$R$     |proportion of recovered    |   |Keeling and Rohani 2007|\n",
    "|$temp$  |temperature |degrees c|-|\n",
    "|$humidity$   |relative humidity|%|-|\n",
    "|$containment$ |containment parameter||Neher 2020|\n",
    "|$k$   |inflection point of Hill function||Neher 2020|\n",
    "|$\\epsilon$   |amplitude of seasonal forcing||Neher 2020|\n",
    "|$\\theta$  |time of peak transmissability||Neher 2020|\n",
    "\n",
    "kappa not used in these models but :|$\\kappa$   |average number of contacts per individual per unit time|$year^-1$ |Keeling and Rohani 2007|\n",
    "\n",
    "units calculated from:  \n",
    "units of de/dt,ds/st,di/dt, dr/dt proportional change $\\times year^{-1}$  \n",
    "\n"
   ]
  },
  {
   "cell_type": "code",
   "execution_count": null,
   "metadata": {},
   "outputs": [],
   "source": []
  }
 ],
 "metadata": {
  "kernelspec": {
   "display_name": "R",
   "language": "R",
   "name": "ir"
  },
  "language_info": {
   "codemirror_mode": "r",
   "file_extension": ".r",
   "mimetype": "text/x-r-source",
   "name": "R",
   "pygments_lexer": "r",
   "version": "3.6.3"
  }
 },
 "nbformat": 4,
 "nbformat_minor": 2
}
