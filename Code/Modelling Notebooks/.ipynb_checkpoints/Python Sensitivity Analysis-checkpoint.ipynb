{
 "cells": [
  {
   "cell_type": "markdown",
   "metadata": {},
   "source": [
    "# Python Sensitivity Analysis\n",
    "$R0=\\frac{\\sigma}{\\sigma+\\mu} \\times \\frac {\\beta}{\\alpha+\\mu+\\gamma}\\\\ $  from Bjornstad   \n",
    "$ \\beta = c_r \\times  \\epsilon \\times  \\frac{\\frac{-1}{q}(1-e^{qd})}{\\frac{-1}{q}(1-e^{qd})+h}\\\\ $ - from my definition  \n",
    "$ \\alpha= \\frac{p}{1-p}(\\mu + \\gamma) $ to convert into fatality rate  \n",
    "$\\alpha+\\mu+\\gamma = \\frac{p}{1-p}(\\mu + \\gamma)+\\mu+\\gamma $  \n",
    "$\\alpha+\\mu+\\gamma = (\\frac{p}{1-p}+1)(\\mu + \\gamma) $  \n",
    "$\\alpha+\\mu+\\gamma = (\\frac{1}{1-p})(\\mu + \\gamma) $  \n",
    "\n",
    "$ R0= \\frac{\\sigma}{\\sigma + \\mu}  \\times \\frac{ c_r \\times \\epsilon \\times  \\frac{ \\frac{-1 }{ q} \\times (1 - e^{ q  d})}{\\frac{- 1}{q} \\times (1 - e^{ q d}) + h} }{(\\mu + \\gamma)\\frac{1}{1 - p}}$"
   ]
  },
  {
   "cell_type": "code",
   "execution_count": 1,
   "metadata": {},
   "outputs": [],
   "source": [
    "import numpy as np\n",
    "import sympy\n",
    "from sympy import *\n",
    "import matplotlib.pylab as plot\n",
    "import matplotlib.pyplot as plt\n"
   ]
  },
  {
   "cell_type": "code",
   "execution_count": 2,
   "metadata": {},
   "outputs": [],
   "source": [
    "no_range=5\n",
    "def diff_func(equation,variable,parms):\n",
    "    \"\"\"finds partial derivative divided by equation (R0) for particular variable\"\"\"\n",
    "    dR0dv=diff(equation,variable)\n",
    "    dR0dv_proportion=dR0dv/equation\n",
    "    for i in dR0dv_proportion.free_symbols: \n",
    "        dR0dv_proportion=dR0dv_proportion.subs(i,parms[str(i)])\n",
    "    return(dR0dv_proportion)\n",
    "\n",
    "def loop_diff(parms,equation,abs_req):\n",
    "    \"\"\"loop through parameters in equation(R0), call diff_func and store importance of each parameter\"\"\"\n",
    "    importance_dictionary={}\n",
    "    for k in equation.free_symbols:\n",
    "        if abs_req==True:\n",
    "            importance_dictionary[str(k)]=abs(diff_func(equation,k,parms))\n",
    "        else:\n",
    "            importance_dictionary[str(k)]=diff_func(equation,k,parms)\n",
    "    return(importance_dictionary)\n",
    "\n",
    "def plot_parm_imp(parms,equation,abs_req):\n",
    "    \"\"\"plot for one set of variables\"\"\"\n",
    "    rank=loop_diff(parms,equation,abs_req)\n",
    "    #sorted(rank, key=rank.get,reverse=True)\n",
    "    #f1=plot.figure()\n",
    "    variable= [i for i in rank]\n",
    "    value=[rank[str(i)] for i in rank]\n",
    "    plot.bar(variable,height=value,width=0.8)\n",
    "    #return(sum(abs_value))\n",
    "    #plot.show()\n",
    "\n",
    "#def loop_diff_varying_parameters(parms_min,parms_median,parms_max,equation,abs_req):\n",
    "#    \"\"\"repeat loop_diff for a range of parameters and keep output\"\"\"\n",
    " #   rank_dict={}\n",
    "  #  parms_temp=parms_median\n",
    "   # for k in equation.free_symbols:\n",
    "       # print(equation)\n",
    "    #    rank_dict[str(k)]={}\n",
    "     #   param_value_range=np.linspace(parms_min[str(k)],parms_max[str(k)],4)\n",
    "      #  for l in param_value_range:\n",
    "       #     parms_temp[str(k)]=l\n",
    "        #    rank_dict[str(k)][l]=loop_diff(parms_temp,equation,abs_req)\n",
    "   # return(rank_dict)\n",
    "\n",
    "\n",
    "def varying_parameters(parms_min,parms_median,parms_max,equation,abs_req):\n",
    "    \"\"\"repeat loop_diff for a range of parameters and keep output\"\"\"\n",
    "    rank_list=[]\n",
    "    parms_temp=parms_median\n",
    "    for k in equation.free_symbols:\n",
    "       # if k!=c_r:\n",
    "        # if k!=q:\n",
    "        param_value_range=np.linspace(parms_min[str(k)],parms_max[str(k)],no_range)\n",
    "        for l in param_value_range:\n",
    "            parms_temp[str(k)]=l\n",
    "            rank_list.append([k,l,loop_diff(parms_temp,equation,abs_req)])\n",
    "    return(rank_list)\n",
    "\n",
    "def varying_parameters_ranks(parms_min,parms_median,parms_max,equation):\n",
    "    \"\"\"repeat loop_diff for a range of parameters and keep output- ranks \"\"\"\n",
    "    rank_list=[]\n",
    "    parms_temp=parms_median\n",
    "    for k in equation.free_symbols:\n",
    "     #   if k!=c_r:\n",
    "       #     if k!=q:\n",
    "        param_value_range=np.linspace(parms_min[str(k)],parms_max[str(k)],no_range)\n",
    "        for l in param_value_range:\n",
    "            parms_temp[str(k)]=l\n",
    "            argh=loop_diff(parms_temp,equation,abs_req=True)\n",
    "            argh={key: rank for rank, key in enumerate(sorted(argh, key=argh.get, reverse=False), 1)}\n",
    "            rank_list.append([k,l,argh])\n",
    "    return(rank_list)\n",
    "\n",
    "\n",
    "def plot_value_ranges(a):\n",
    "    \"\"\"plots the mean and standard error of dR0/dt based on the results of the sensitivity analysis\"\"\"\n",
    "    value_dics=[i[2] for i in a] #just values \n",
    "    parameters=[i for i in value_dics[0]] # just parameters\n",
    "    parameters.sort()\n",
    "    #arameters_short=parameters[:]\n",
    "    #arameters_short.remove(\"q\")\n",
    "    #arameters_short.remove(\"c_r\")\n",
    "\n",
    "    #ust_values=[value_dics[l][s] for s in parameters for l in range(len(parameters_short*no_range))] #all possible values\n",
    "    just_values=[value_dics[l][s] for s in parameters for l in range(len(parameters*no_range))] #all possible values\n",
    "    parameters=np.array(parameters)\n",
    "    no_parameters=len(parameters)\n",
    "    no_each_parameter=len(just_values)/no_parameters\n",
    "    no_each_parameter=int(no_each_parameter)\n",
    "    array_values=np.array(just_values)    \n",
    "    to_fill = np.reshape(just_values, (no_parameters,no_each_parameter))\n",
    "    m=np.matrix(to_fill,dtype=np.float64)\n",
    "    means=np.array(m.mean(1))\n",
    "    errors=np.array(m.std(1))\n",
    "    array_means=np.repeat(means,no_each_parameter)\n",
    "    array_parameters=np.repeat(parameters, no_each_parameter)\n",
    "    array_errors=np.repeat(a=errors,repeats=no_each_parameter)\n",
    "    plot.bar(array_parameters,array_means,yerr=array_errors)\n",
    "    plot.xlabel(\"Parameter\")\n",
    "    \n",
    "def plot_hist(a):\n",
    "    \"\"\"plots the histograms of dR0/dt based on the results of the sensitivity analysis\"\"\"\n",
    "\n",
    "    value_dics=[i[2] for i in a] #just values \n",
    "    parameters=[i for i in value_dics[0]] # just parameters\n",
    "    parameters.sort()\n",
    "    #parameters_short=parameters[:]\n",
    "    #parameters_short.remove(\"q\")\n",
    "   # parameters_short.remove(\"c_r\")\n",
    "\n",
    "    #just_values=[value_dics[l][s] for s in parameters for l in range(len(parameters_short*no_range))] #all possible values\n",
    "    just_values=[value_dics[l][k] for k in parameters for l in range(len(parameters*no_range))] #all possible values\n",
    "    #parameters=np.array(parameters)\n",
    "    no_parameters=len(parameters)\n",
    "    no_each_parameter=len(just_values)/no_parameters\n",
    "    no_each_parameter=int(no_each_parameter)\n",
    "    to_fill = np.reshape(just_values, (no_each_parameter,no_parameters),order=\"f\")\n",
    "    #array_values=np.array(just_values) \n",
    "    #array_parameters=np.repeat(parameters, no_each_parameter)\n",
    "    colours=[\"indigo\",\"cyan\",\"teal\",\"green\",\"olive\",\"moccasin\",\"palevioletred\",\"mediumpurple\",\"purple\"]\n",
    "    bins_list=[1,2,3,4,5,6,7,8,9,10]\n",
    "    plot.hist(to_fill, bins=bins_list, histtype=\"bar\", label=parameters,color=colours,align='left')\n",
    "    plot.legend(loc='upper right')\n",
    "    plot.xticks(np.arange(1,9, ))\n",
    "    plot.xlabel('rank')\n",
    "    plot.ylabel('frequency')"
   ]
  },
  {
   "cell_type": "code",
   "execution_count": 3,
   "metadata": {},
   "outputs": [],
   "source": [
    "\n",
    "sigma, mu, c_r, epsilon, d, h, gamma, p = var('sigma, mu, c_r, epsilon, d, h, gamma, p ',real=True, positive = true)\n",
    "q = var('q',real=True, positive = False)\n",
    "R0 = (sigma / (sigma + mu)) * c_r * epsilon *  (( (-1 / q) * (1 - exp( q * d)))/((- 1 / q) * (1 - exp( q * d)) + h)) / ((mu + gamma)*( 1 / ( 1 - p )))\n",
    "\n"
   ]
  },
  {
   "cell_type": "code",
   "execution_count": 4,
   "metadata": {},
   "outputs": [
    {
     "data": {
      "image/png": "[encoded data removed]",
      "text/plain": [
       "<matplotlib.figure.Figure at 0x7f9ea5c0cd68>"
      ]
     },
     "metadata": {
      "needs_background": "light"
     },
     "output_type": "display_data"
    }
   ],
   "source": [
    "plot_parm_imp(parms ={\"sigma\": 0.68, \"mu\": 2.06e-5, \"c_r\": 18.54 , \"epsilon\": 0.05, \"d\": 4/24, \"h\": 0.25/24, \"gamma\": 0.25, \"p\": 0.005, \"q\":-39.87 },equation=R0,abs_req=False)\n",
    "plot_parm_imp(parms ={\"sigma\": 0.68, \"mu\": 2.06e-5, \"c_r\": 18.54 , \"epsilon\": 0.1, \"d\": 4/24, \"h\": 0.25/24, \"gamma\": 0.25, \"p\": 0.005, \"q\":-39.87 }\n",
    ",equation=R0,abs_req=False)\n",
    "plot_parm_imp(parms ={\"sigma\": 0.68, \"mu\": 2.06e-5, \"c_r\": 18.54 , \"epsilon\": 0.05, \"d\": 0.25/24, \"h\": 0.25/24, \"gamma\": 0.25, \"p\": 0.005, \"q\":-39.87 }\n",
    ",equation=R0,abs_req=False)"
   ]
  },
  {
   "cell_type": "code",
   "execution_count": 24,
   "metadata": {},
   "outputs": [],
   "source": [
    "#medium temp\n",
    "parms_median ={\"sigma\": 0.68, \"mu\": 2.06e-5, \"c_r\": 18.54 , \"epsilon\": 0.05, \"d\": 4/24, \"h\": 0.25/24, \"gamma\": 0.25, \"p\": 0.005, \"q\":-39.87 }\n",
    "parms_min ={\"sigma\": 0.4, \"mu\": 1e-5, \"c_r\": 18.54 , \"epsilon\": 0.01, \"d\": 0.25/24, \"h\": 1/60/24, \"gamma\": 0.1, \"p\": 0.001, \"q\":-39.87}\n",
    "parms_max ={\"sigma\": 0.96, \"mu\":5e-5, \"c_r\": 18.54 , \"epsilon\": 0.2, \"d\": 4/24, \"h\": 4/24, \"gamma\": 0.5, \"p\": 0.01, \"q\":-39.87 }\n",
    "a1=varying_parameters(parms_min,parms_median,parms_max,R0,abs_req=False)\n",
    "a2=varying_parameters_ranks(parms_min,parms_median,parms_max,R0)\n",
    "#high temp\n",
    "parms_median ={\"sigma\": 0.68, \"mu\": 2.06e-5, \"c_r\": 30 , \"epsilon\": 0.05, \"d\": 4/24, \"h\": 0.25/24, \"gamma\": 0.25, \"p\": 0.005, \"q\":-73 }\n",
    "parms_min ={\"sigma\": 0.4, \"mu\": 1e-5, \"c_r\": 30 , \"epsilon\": 0.01, \"d\": 0.25/24, \"h\": 1/60/24, \"gamma\": 0.1, \"p\": 0.001, \"q\":-73}\n",
    "parms_max ={\"sigma\": 0.96, \"mu\":5e-5, \"c_r\": 30 , \"epsilon\": 0.2, \"d\": 4/24, \"h\": 4/24, \"gamma\": 0.5, \"p\": 0.01, \"q\":-73 }\n",
    "b1=varying_parameters(parms_min,parms_median,parms_max,R0,abs_req=False)\n",
    "b2=varying_parameters_ranks(parms_min,parms_median,parms_max,R0)\n",
    "#low temp\n",
    "parms_median ={\"sigma\": 0.68, \"mu\": 2.06e-5, \"c_r\": 4.3 , \"epsilon\": 0.05, \"d\": 4/24, \"h\": 0.25/24, \"gamma\": 0.25, \"p\": 0.005, \"q\":-21 }\n",
    "parms_min ={\"sigma\": 0.4, \"mu\": 1e-5, \"c_r\": 4.3 , \"epsilon\": 0.01, \"d\": 0.25/24, \"h\": 1/60/24, \"gamma\": 0.1, \"p\": 0.001, \"q\":-21 }\n",
    "parms_max ={\"sigma\": 0.96, \"mu\":5e-5, \"c_r\": 4.3 , \"epsilon\": 0.2, \"d\": 4/24, \"h\": 4/24, \"gamma\": 0.5, \"p\": 0.01, \"q\":-21 }\n",
    "c1=varying_parameters(parms_min,parms_median,parms_max,R0,abs_req=False)\n",
    "c2=varying_parameters_ranks(parms_min,parms_median,parms_max,R0)"
   ]
  },
  {
   "cell_type": "code",
   "execution_count": 25,
   "metadata": {},
   "outputs": [
    {
     "data": {
      "text/plain": [
       "Text(0,0.5,'d(R0)/d(Parameter) /R0')"
      ]
     },
     "execution_count": 25,
     "metadata": {},
     "output_type": "execute_result"
    },
    {
     "data": {
      "image/png": "[encoded data removed]",
      "text/plain": [
       "<matplotlib.figure.Figure at 0x7f9ea33a8438>"
      ]
     },
     "metadata": {
      "needs_background": "light"
     },
     "output_type": "display_data"
    }
   ],
   "source": [
    "\n",
    "plot_value_ranges(c1)\n",
    "plot.ylabel(\"d(R0)/d(Parameter) /R0\")\n"
   ]
  },
  {
   "cell_type": "code",
   "execution_count": 26,
   "metadata": {},
   "outputs": [
    {
     "data": {
      "text/plain": [
       "Text(0,0.5,'d(R0)/d(Parameter) /R0')"
      ]
     },
     "execution_count": 26,
     "metadata": {},
     "output_type": "execute_result"
    },
    {
     "data": {
      "image/png": "[encoded data removed]",
      "text/plain": [
       "<matplotlib.figure.Figure at 0x7f9ea3331cc0>"
      ]
     },
     "metadata": {
      "needs_background": "light"
     },
     "output_type": "display_data"
    }
   ],
   "source": [
    "\n",
    "plot_value_ranges(a1)\n",
    "plot.ylabel(\"d(R0)/d(Parameter) /R0\")\n"
   ]
  },
  {
   "cell_type": "code",
   "execution_count": 23,
   "metadata": {},
   "outputs": [
    {
     "data": {
      "text/plain": [
       "Text(0,0.5,'d(R0)/d(Parameter) /R0')"
      ]
     },
     "execution_count": 23,
     "metadata": {},
     "output_type": "execute_result"
    },
    {
     "data": {
      "image/png": "[encoded data removed]",
      "text/plain": [
       "<matplotlib.figure.Figure at 0x7f9ea3c0c438>"
      ]
     },
     "metadata": {
      "needs_background": "light"
     },
     "output_type": "display_data"
    }
   ],
   "source": [
    "\n",
    "plot_value_ranges(b1)\n",
    "plot.ylabel(\"d(R0)/d(Parameter) /R0\")\n"
   ]
  },
  {
   "cell_type": "code",
   "execution_count": 9,
   "metadata": {},
   "outputs": [
    {
     "data": {
      "text/plain": [
       "Text(0,0.5,'Importance of Parameter')"
      ]
     },
     "execution_count": 9,
     "metadata": {},
     "output_type": "execute_result"
    },
    {
     "data": {
      "image/png": "[encoded data removed]",
      "text/plain": [
       "<matplotlib.figure.Figure at 0x7f9ea50fa4a8>"
      ]
     },
     "metadata": {
      "needs_background": "light"
     },
     "output_type": "display_data"
    }
   ],
   "source": [
    "\n",
    "plot_value_ranges(c2)\n",
    "plot.ylabel(\"Importance of Parameter\")\n"
   ]
  },
  {
   "cell_type": "code",
   "execution_count": 10,
   "metadata": {},
   "outputs": [
    {
     "data": {
      "text/plain": [
       "Text(0,0.5,'Importance of Parameter')"
      ]
     },
     "execution_count": 10,
     "metadata": {},
     "output_type": "execute_result"
    },
    {
     "data": {
      "image/png": "[encoded data removed]",
      "text/plain": [
       "<matplotlib.figure.Figure at 0x7f9ea4df5cf8>"
      ]
     },
     "metadata": {
      "needs_background": "light"
     },
     "output_type": "display_data"
    }
   ],
   "source": [
    "\n",
    "plot_value_ranges(a2)\n",
    "plot.ylabel(\"Importance of Parameter\")\n"
   ]
  },
  {
   "cell_type": "code",
   "execution_count": 11,
   "metadata": {},
   "outputs": [
    {
     "data": {
      "text/plain": [
       "Text(0,0.5,'Importance of Parameter')"
      ]
     },
     "execution_count": 11,
     "metadata": {},
     "output_type": "execute_result"
    },
    {
     "data": {
      "image/png": "[encoded data removed]",
      "text/plain": [
       "<matplotlib.figure.Figure at 0x7f9ea4890438>"
      ]
     },
     "metadata": {
      "needs_background": "light"
     },
     "output_type": "display_data"
    }
   ],
   "source": [
    "\n",
    "plot_value_ranges(b2)\n",
    "plot.ylabel(\"Importance of Parameter\")\n"
   ]
  },
  {
   "cell_type": "code",
   "execution_count": 12,
   "metadata": {},
   "outputs": [
    {
     "data": {
      "image/png": "[encoded data removed]",
      "text/plain": [
       "<matplotlib.figure.Figure at 0x7f9ea4442f28>"
      ]
     },
     "metadata": {
      "needs_background": "light"
     },
     "output_type": "display_data"
    }
   ],
   "source": [
    "plot_hist(c2)"
   ]
  },
  {
   "cell_type": "code",
   "execution_count": 13,
   "metadata": {},
   "outputs": [
    {
     "data": {
      "image/png": "[encoded data removed]",
      "text/plain": [
       "<matplotlib.figure.Figure at 0x7f9ea40083c8>"
      ]
     },
     "metadata": {
      "needs_background": "light"
     },
     "output_type": "display_data"
    }
   ],
   "source": [
    "plot_hist(a2)"
   ]
  },
  {
   "cell_type": "code",
   "execution_count": 14,
   "metadata": {},
   "outputs": [
    {
     "data": {
      "image/png": "[encoded data removed]",
      "text/plain": [
       "<matplotlib.figure.Figure at 0x7f9ea3f17fd0>"
      ]
     },
     "metadata": {
      "needs_background": "light"
     },
     "output_type": "display_data"
    }
   ],
   "source": [
    "plot_hist(b2)"
   ]
  },
  {
   "cell_type": "markdown",
   "metadata": {},
   "source": [
    "- neither cr nor q matter very much in terms of their partial differential over R0.\n",
    "- but changing their value changes the order other variables-specificallly changing whether the variables are for medium, low or high temp changes the order of gamma/epsilon and q/d/cr. this is when peak of contact is at high temperatures\n",
    "- i.e the model is fairly robust to changes in cr and q. but in different climates, values of other variables vary in importance.\n",
    "- overall most important variables are epsilon and h followed by mu then gamma\n",
    "- sigma is almost always the least important (q,d and cr are also low in the rankings)"
   ]
  },
  {
   "cell_type": "code",
   "execution_count": null,
   "metadata": {},
   "outputs": [],
   "source": []
  },
  {
   "cell_type": "code",
   "execution_count": null,
   "metadata": {},
   "outputs": [],
   "source": []
  },
  {
   "cell_type": "code",
   "execution_count": 15,
   "metadata": {},
   "outputs": [],
   "source": [
    "#def plots(min,med,max):\n",
    "\n",
    "#a=varying_parameters(parms_min,parms_median,parms_max,R0,abs_req=False)\n",
    "# \n",
    "#    \n",
    "#fig, (ax1,ax2,ax3) = plot.subplots(3)\n",
    "#value_dics=[i[2] for i in a] #just values \n",
    "#parameters=[i for i in value_dics[0]] # just parameters\n",
    "#parameters.sort()\n",
    "#just_values=[value_dics[l][k] for k in parameters for l in range(len(parameters*no_range))] #all possible values\n",
    "##parameters=np.array(parameters)\n",
    "#no_parameters=len(parameters)\n",
    "#no_each_parameter=len(just_values)/no_parameters\n",
    "#no_each_parameter=int(no_each_parameter)\n",
    "#to_fill = np.reshape(just_values, (no_each_parameter,no_parameters),order=\"f\")\n",
    "#m=np.matrix(to_fill,dtype=np.float64)\n",
    "#means=np.array(m.mean(1))\n",
    "#errors=np.array(m.std(1))\n",
    "#array_means=np.repeat(means,no_each_parameter)\n",
    "#array_parameters=np.repeat(parameters, no_each_parameter)\n",
    "#array_errors=np.repeat(a=errors,repeats=no_each_parameter)\n",
    "#ax1.bar(x=parameters,height=means,yerr=errors)\n",
    "#ax1.xlabel(\"Parameter\")\n",
    "#    #array_values=np.array(just_values) \n",
    "#    #array_parameters=np.repeat(parameters, no_each_parameter)\n",
    "#a=varying_parameters_ranks(parms_min,parms_median,parms_max,R0) \n",
    "#value_dics=[i[2] for i in a] #just values \n",
    "#parameters=[i for i in value_dics[0]] # just parameters\n",
    "#parameters.sort()\n",
    "#just_values=[value_dics[l][k] for k in parameters for l in range(len(parameters*no_range))] #all possible values\n",
    "##parameters=np.array(parameters)\n",
    "#no_parameters=len(parameters)\n",
    "#no_each_parameter=len(just_values)/no_parameters\n",
    "#no_each_parameter=int(no_each_parameter)\n",
    "#to_fill = np.reshape(just_values, (no_each_parameter,no_parameters),order=\"f\")\n",
    "#m=np.matrix(to_fill,dtype=np.float64)\n",
    "#means=np.array(m.mean(1))\n",
    "#errors=np.array(m.std(1))\n",
    "#array_means=np.repeat(means,no_each_parameter)\n",
    "#array_parameters=np.repeat(parameters, no_each_parameter)\n",
    "#array_errors=np.repeat(a=errors,repeats=no_each_parameter)\n",
    "#ax2.bar(x=array_parameters,height=array_means,yerr=array_errors)\n",
    "#ax2.ylabel(\"Importance of Parameter\")\n",
    "#colours=[\"r\",\"orange\",\"yellow\",\"g\",\"c\",\"b\",\"indigo\",\"m\",\"brown\"]\n",
    "#bins_list=[1,2,3,4,5,6,7,8,9,10]\n",
    "#ax3.hist(to_fill, bins=bins_list, histtype=\"bar\", label=parameters,color=colours,align='left')\n",
    "#ax3.legend(loc='upper right')\n",
    "#ax3.xticks(np.arange(1,9, 1))\n",
    "#ax3.xlabel('rank')\n",
    "#ax3.ylabel('frequency')\n",
    "\n"
   ]
  },
  {
   "cell_type": "code",
   "execution_count": 16,
   "metadata": {},
   "outputs": [],
   "source": [
    "#simple=d+h+p\n",
    "#\n",
    "#a=loop_diff_varying_parameters(parms_min={\"d\":0,\"h\":0,\"p\":0},parms_median={\"d\":0.5,\"h\":0.5,\"p\":0.5},parms_max={\"d\":1,\"h\":1,\"p\":1},equation=simple)\n",
    "#a=varying_parameters(parms_min={\"d\":0,\"h\":0,\"p\":0},parms_median={\"d\":0.5,\"h\":0.5,\"p\":0.5},parms_max={\"d\":1,\"h\":1,\"p\":1},equation=simple)\n",
    "#for variable in a:\n",
    "#    for value in a[str(variable)]:\n",
    "#        for parm in a[str(variable)][value]:\n",
    "#            print(a[str(variable)][value][str(parm)])\n",
    "#all values\n",
    "#for variable in a:\n",
    "    #make a varuible for each\n",
    " #   for value in a[str(variable)]:\n",
    " #       for parm in a[str(variable)][value]:\n",
    " #           print(a[str(variable)][value][str(parm)])\n",
    " #       print()\n",
    "     #   for parm in a[str(variable)][value]:\n",
    "      #      print(a[str(variable)][value][str(parm)])\n",
    "#all values\n",
    "#a1=[1,2,{\"f\":10,\"g\":11,\"h\":12}]\n",
    "#b1=[4,5,{\"f\":13,\"g\":14,\"h\":15}]\n",
    "#c1=[7,8,{\"f\":16,\"g\":17,\"h\":18}]\n",
    "#a=[a1,b1,c1]\n",
    "#argh={\"f\":100,\"g\":11,\"h\":12}\n",
    "#argh={key: rank for rank, key in enumerate(sorted(argh, key=argh.get, reverse=False), 1)}\n",
    "#argh={\"f\":100,\"g\":11,\"h\":12}\n",
    "#argh={key: rank for rank, key in enumerate(sorted(argh, key=argh.get, reverse=True), 1)}\n",
    "#argh"
   ]
  },
  {
   "cell_type": "code",
   "execution_count": 17,
   "metadata": {},
   "outputs": [],
   "source": [
    "#equation=R0\n",
    "#rank_list=[]\n",
    "#parms_temp=parms_median\n",
    "#for k in equation.free_symbols:\n",
    "#    if k!=c_r:\n",
    "#        if k!=q:\n",
    "#            param_value_range=np.linspace(parms_min[str(k)],parms_max[str(k)],3)\n",
    "#            for l in param_value_range:\n",
    "#                parms_temp[str(k)]=l#\n",
    "#                argh=loop_diff(parms_temp,equation,abs_req=True)\n",
    "#                argh={key: rank for rank, key in enumerate(sorted(argh, key=argh.get, reverse=False), 1)}\n",
    "#                rank_list.append([k,l,argh])\n",
    "#rank_list\n"
   ]
  },
  {
   "cell_type": "code",
   "execution_count": 18,
   "metadata": {},
   "outputs": [],
   "source": [
    "#value_dics=[i[2] for i in a1] #just values \n",
    "#parameters=[i for i in value_dics[0]] # just parameters\n",
    "#parameters_short=parameters[:]\n",
    "#parameters_short.remove(\"q\")\n",
    "#parameters_short.remove(\"c_r\")#\n",
    "\n",
    "#just_values=[value_dics[l][s] for s in parameters for l in range(len(parameters_short*no_range))] #all possible values#"
   ]
  }
 ],
 "metadata": {
  "kernelspec": {
   "display_name": "Python 3",
   "language": "python",
   "name": "python3"
  },
  "language_info": {
   "codemirror_mode": {
    "name": "ipython",
    "version": 3
   },
   "file_extension": ".py",
   "mimetype": "text/x-python",
   "name": "python",
   "nbconvert_exporter": "python",
   "pygments_lexer": "ipython3",
   "version": "3.6.9"
  }
 },
 "nbformat": 4,
 "nbformat_minor": 2
}
