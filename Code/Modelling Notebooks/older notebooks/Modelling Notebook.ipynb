{
 "cells": [
  {
   "cell_type": "markdown",
   "metadata": {},
   "source": [
    "# Modelling Notebook- current ideas"
   ]
  },
  {
   "cell_type": "markdown",
   "metadata": {},
   "source": [
    "Neher's Model:  \n",
    "$\\beta_t = \\beta_0\\times measures \\times seasonality \\\\\n",
    "seasonality(time)=1 + \\epsilon \\cos (2 \\pi (time - \\theta)) \\\\\n",
    "measures=1 - containment \\times \\frac{I^3} {k^3 + I^3} \\\\\n",
    "  infection = \\beta_t  I  S\\\\\n",
    "  \\frac{dS}{dt} = \\nu - infection - \\mu S\\\\\n",
    "  \\frac{dE}{dt}= infection - (\\sigma + \\mu) E\\\\\n",
    "  \\frac{dI}{dt} = \\sigma  E - (\\alpha + \\mu + \\gamma) I\\\\\n",
    "  \\frac{dR}{dt} = \\gamma I - \\mu R $\n",
    " "
   ]
  },
  {
   "cell_type": "markdown",
   "metadata": {},
   "source": [
    "Ideas for Modification of Neher's Model:  \n",
    "- decide whether proportion or numbers is better\n",
    "- the aim is to seperate climate and behavioural effects i.e. separate seasonality term above\n",
    "\n",
    "$\\beta_t = \\beta_0\\times contact \\times climate \\\\\n",
    "climate(time)=1 + j \\times survivability(temp[time],humidity[time]) \\\\\n",
    "contact(time)=(1 - containment \\times \\frac{I^3} {k^3 + I^3}) \\times SEASONALCONTACTFUNCTION \\\\ $  \n",
    "Ideas for seasonal contact function:  \n",
    "- sinusoidal wave similar to seasonality in above model  \n",
    "- attempt to make function with limited data  \n",
    "- attempt to use kappa with limited data \n",
    "\n",
    "Ideas for survivability function:  \n",
    "- use data about virus survival  \n",
    "- cos based or more discrete\n",
    "- reconsider adding a compartment for amount of virus in environment\n",
    "\n",
    "$  infection = \\beta_t  I  S\\\\\n",
    "  \\frac{dS}{dt} = \\nu - infection - \\mu S\\\\\n",
    "  \\frac{dE}{dt}= infection - (\\sigma + \\mu) E\\\\\n",
    "  \\frac{dI}{dt} = \\sigma  E - (\\alpha + \\mu + \\gamma) I\\\\\n",
    "  \\frac{dR}{dt} = \\gamma I - \\mu R $\n",
    " "
   ]
  },
  {
   "cell_type": "markdown",
   "metadata": {},
   "source": [
    "## Parameter table"
   ]
  },
  {
   "cell_type": "markdown",
   "metadata": {},
   "source": [
    "|Parameter|Meaning|Unit|Origin|\n",
    "|------|------|------|------|\n",
    "|$\\alpha$     |rate of disease induced mortality (per capita?)   |$year^{-1}$|Bjørnstad 2018|\n",
    "|$\\beta$     |transmission rate per infective per day    | $year^{-1}$   |Keeling and Rohani 2007|\n",
    "|$\\beta_0$     |average annual infection rate|$year^{-1}$     |Neher 2020|\n",
    "|$\\gamma$     |recovery rate per year- probably of recovery for an individual per day (reciprocal of infectious period)   |$year^-1$|Keeling and Rohani 2007|\n",
    "|$\\mu$    |natural per capita death rate -not caused by disease|$day^-1$  |Keeling and Rohani 2007|\n",
    "|$\\nu$    |natural per capita birth rate |$year^{-1}$ |Keeling and Rohani 2007|\n",
    "|$\\sigma$     |rate of movement from E to I (reciprocal of latent period)|$year^-1$|Keeling and Rohani 2007|\n",
    "|$S$     |proportion of susceptibles    |    |Keeling and Rohani 2007|\n",
    "|$E$     |proportion of exposed |     |Keeling and Rohani 2007|\n",
    "|$I$     |proportion of infected     |  |Keeling and Rohani 2007|\n",
    "|$R$     |proportion of recovered    |   |Keeling and Rohani 2007|\n",
    "|$temp$  |temperature |degrees c|-|\n",
    "|$humidity$   |relative humidity|%|-|\n",
    "|$containment$ |containment parameter||Neher 2020|\n",
    "|$k$   |inflection point of Hill function||Neher 2020|\n",
    "|$\\epsilon$   |amplitude of seasonal forcing||Neher 2020|\n",
    "|$\\theta$  |time of peak transmissability||Neher 2020|\n",
    "\n",
    "kappa not used in these models but :|$\\kappa$   |average number of contacts per individual per unit time|$year^-1$ |Keeling and Rohani 2007|\n",
    "\n",
    "units calculated from:  \n",
    "units of de/dt,ds/st,di/dt, dr/dt proportional change $\\times year^{-1}$  \n"
   ]
  },
  {
   "cell_type": "code",
   "execution_count": null,
   "metadata": {},
   "outputs": [],
   "source": []
  },
  {
   "cell_type": "code",
   "execution_count": null,
   "metadata": {},
   "outputs": [],
   "source": []
  }
 ],
 "metadata": {
  "kernelspec": {
   "display_name": "R",
   "language": "R",
   "name": "ir"
  },
  "language_info": {
   "codemirror_mode": "r",
   "file_extension": ".r",
   "mimetype": "text/x-r-source",
   "name": "R",
   "pygments_lexer": "r",
   "version": "3.6.3"
  }
 },
 "nbformat": 4,
 "nbformat_minor": 2
}
