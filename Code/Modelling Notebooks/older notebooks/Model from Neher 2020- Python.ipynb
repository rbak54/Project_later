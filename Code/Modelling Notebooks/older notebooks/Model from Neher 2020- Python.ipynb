{
 "cells": [
  {
   "cell_type": "markdown",
   "metadata": {},
   "source": [
    "# Simplified version of Neher's Model"
   ]
  },
  {
   "cell_type": "markdown",
   "metadata": {},
   "source": [
    "Neher 2020 has a more complicated model- include migration, different climatic regions and variation in parameters according to the region"
   ]
  },
  {
   "cell_type": "markdown",
   "metadata": {},
   "source": [
    "python vs r? I like having my own function for the ode as I have in python here. \n",
    "Number vs proportions? Both here- as Neher uses proportions"
   ]
  },
  {
   "cell_type": "code",
   "execution_count": 1,
   "metadata": {},
   "outputs": [],
   "source": [
    "import pandas as pd\n",
    "import numpy as np\n",
    "from scipy.stats import poisson\n",
    "import matplotlib.pyplot as plt\n",
    "from matplotlib.lines import Line2D\n"
   ]
  },
  {
   "cell_type": "markdown",
   "metadata": {},
   "source": [
    "## Proportions"
   ]
  },
  {
   "cell_type": "markdown",
   "metadata": {},
   "source": [
    "$\\beta_t = \\beta_0  (1 + \\epsilon \\cos (2 \\pi (time - \\theta)))(1 - containment \\times \\frac{I^3} {k^3 + I^3}) \\\\\n",
    "  infection = \\beta_t  I  S\\\\\n",
    "  \\frac{dS}{dt} = \\nu - infection - \\mu S\\\\\n",
    "  \\frac{dE}{dt}= infection - (\\sigma + \\mu) E\\\\\n",
    "  \\frac{dI}{dt} = \\sigma  E - (\\alpha + \\mu + \\gamma) I\\\\\n",
    "  \\frac{dR}{dt} = \\gamma I - \\mu R $\n",
    " "
   ]
  },
  {
   "cell_type": "code",
   "execution_count": 2,
   "metadata": {},
   "outputs": [],
   "source": [
    "def odes(S, E, I, t, params):\n",
    "    '''\n",
    "    vectorized derivative of SIR models in multiple populations.\n",
    "\n",
    "    S, I are vectors with one entry for each population\n",
    "    t is time\n",
    "    params is an array of [[N, beta, rec, eps, theta, climate, containment, migration_rate, incubation_time, turnover],\n",
    "                           [N, beta, rec, eps, theta, climate, containment, migration_rate, incubation_timen turnover], ...]\n",
    "\n",
    "    '''\n",
    "    betat = params[1] * (1 + params[3]*np.cos(2*np.pi*(t - params[4])))\n",
    "    betatcon = betat * (1 - params[6] * I**3/(0.03**3 + I**3))\n",
    "    infection = betatcon*S*I\n",
    "    #infection is bsi with modified beta -this model doesnt use n\n",
    "    dS = -infection - params[9]*(S-1)    # - params[:,7]*S\n",
    "    dE = infection - (params[9]+params[8])*E #+params[:,7]\n",
    "    dI = E * params[8] - (params[2]+params[9])*I #+params[:,7]\n",
    "\n",
    "    return dS, dE, dI\n",
    "\n",
    "def trajectory(start, t0, tmax, dt, params):\n",
    "    \"\"\"repeatedly applying odes until tmax is reached\"\"\"\n",
    "    populations = [start]\n",
    "    t = [t0]\n",
    "    while t[-1]<tmax:\n",
    "        dS, dE, dI = odes(populations[-1][0], populations[-1][1],populations[-1][2], t[-1], params)\n",
    "        populations.append(populations[-1] + dt*np.array([dS, dE, dI]).T)\n",
    "        t.append(t[-1]+dt)\n",
    "\n",
    "    return t, np.array(populations)\n"
   ]
  },
  {
   "cell_type": "code",
   "execution_count": 3,
   "metadata": {},
   "outputs": [],
   "source": [
    " \n",
    "t0=2020\n",
    "tmax=2022\n",
    "dt=0.001\n",
    "\n",
    "R0=2\n",
    "mu=0\n",
    "incubation=5/365\n",
    "sigma=1/incubation\n",
    "migration_rate=0 #not using\n",
    "containment=0.5\n",
    "climate=0 # not using\n",
    "theta=0\n",
    "epsilon=0.4 #for hubei\n",
    "gamma=72  #=rec \n",
    "beta= R0 * gamma #same as boks say if you ignore mu\n",
    "N0=1e7\n",
    "\n",
    "#[N, beta, rec, eps, theta, climate, containment, migration_rate, sigma, turnover]\n",
    "params=[N0,beta,gamma,epsilon,theta,climate,containment,migration_rate,sigma,mu]\n",
    "\n",
    "start= [1, 0, 30/N0]\n"
   ]
  },
  {
   "cell_type": "code",
   "execution_count": 4,
   "metadata": {},
   "outputs": [
    {
     "data": {
      "text/plain": [
       "[<matplotlib.lines.Line2D at 0x7f618fcbb5c0>]"
      ]
     },
     "execution_count": 4,
     "metadata": {},
     "output_type": "execute_result"
    },
    {
     "data": {
      "image/png": "[encoded data removed]",
      "text/plain": [
       "<matplotlib.figure.Figure at 0x7f61c83a6e10>"
      ]
     },
     "metadata": {
      "needs_background": "light"
     },
     "output_type": "display_data"
    }
   ],
   "source": [
    "t, populations = trajectory(start, t0, tmax, dt, params)\n",
    "infected=[i[2] for i in populations]\n",
    "susceptible=[i[0] for i in populations]\n",
    "exposed=[i[1] for i in populations]\n",
    "recovered=[1-i[0]-i[1]-i[2] for i in populations]\n",
    "fig, ax = plt.subplots(1, 1, figsize=(8,6))\n",
    "ax.plot(t, infected, lw=3, label='Total',color=\"red\")\n",
    "ax.plot(t, susceptible, lw=3, label='Total',color=\"blue\")\n",
    "ax.plot(t, exposed, lw=3, label='Total',color=\"orange\")\n",
    "ax.plot(t, recovered, lw=3, label='Total',color=\"green\")"
   ]
  },
  {
   "cell_type": "markdown",
   "metadata": {},
   "source": [
    "### Parameter table- proportion\n",
    "|Parameter|Meaning|Unit|Origin|\n",
    "|------|------|------|------|\n",
    "|$\\alpha$     |rate of disease induced mortality (per capita?)   |$year^{-1}$|Bjørnstad 2018|\n",
    "|$\\beta$     |transmission rate per infective per day    | $year^{-1}$   |Keeling and Rohani 2007|\n",
    "|$\\beta_0$     |average annual infection rate|$year^{-1}$     |Neher 2020|\n",
    "|$\\gamma$     |recovery rate per year- probably of recovery for an individual per day (reciprocal of infectious period)   |$year^-1$|Keeling and Rohani 2007|\n",
    "|$\\mu$    |natural per capita death rate -not caused by disease|$day^-1$  |Keeling and Rohani 2007|\n",
    "|$\\nu$    |natural per capita birth rate |$year^{-1}$ |Keeling and Rohani 2007|\n",
    "|$\\sigma$     |rate of movement from E to I (reciprocal of latent period)|$year^-1$|Keeling and Rohani 2007|\n",
    "|$S$     |proportion of susceptibles    |    |Keeling and Rohani 2007|\n",
    "|$E$     |proportion of exposed |     |Keeling and Rohani 2007|\n",
    "|$I$     |proportion of infected     |  |Keeling and Rohani 2007|\n",
    "|$R$     |proportion of recovered    |   |Keeling and Rohani 2007|\n",
    "|$temp$  |temperature |degrees c|-|\n",
    "|$humidity$   |relative humidity|%|-|\n",
    "|$containment$ |containment parameter||Neher 2020|\n",
    "|$k$   |inflection point of Hill function||Neher 2020|\n",
    "|$\\epsilon$   |amplitude of seasonal forcing||Neher 2020|\n",
    "|$\\theta$  |time of peak transmissability||Neher 2020|\n",
    "\n",
    "kappa not used in these models but :|$\\kappa$   |average number of contacts per individual per unit time|$year^-1$ |Keeling and Rohani 2007|\n",
    "\n",
    "units calculated from:  \n",
    "units of de/dt,ds/st,di/dt, dr/dt proportional change $\\times year^{-1}$  \n"
   ]
  },
  {
   "cell_type": "markdown",
   "metadata": {},
   "source": [
    "## Numbers "
   ]
  },
  {
   "cell_type": "markdown",
   "metadata": {},
   "source": [
    "$\\beta_t = \\beta_0  (1 + \\epsilon \\cos (2 \\pi (time - \\theta)))(1 - containment \\times \\frac{I^3} {k^3 + I^3}) \\\\\n",
    "  infection = \\frac{\\beta_t  I  S} {N} \\\\\n",
    "  \\frac{dS}{dt} = \\nu  N - infection - \\mu S\\\\\n",
    "  \\frac{dE}{dt}= infection - (\\sigma + \\mu) E\\\\\n",
    "  \\frac{dI}{dt} = \\sigma  E - (\\alpha + \\mu + \\gamma) I\\\\\n",
    "  \\frac{dR}{dt} = \\gamma I - \\mu R $\n",
    " "
   ]
  },
  {
   "cell_type": "code",
   "execution_count": 5,
   "metadata": {},
   "outputs": [],
   "source": [
    "def odesN(S, E, I, R, t, params):\n",
    "    '''\n",
    "    vectorized derivative of SIR models in multiple populations.\n",
    "\n",
    "    S, I are vectors with one entry for each population\n",
    "    t is time\n",
    "    params is an array of [[N, beta, rec, eps, theta, climate, containment, migration_rate, incubation_time, turnover],\n",
    "                           [N, beta, rec, eps, theta, climate, containment, migration_rate, incubation_timen turnover], ...]\n",
    "\n",
    "    '''\n",
    "    betat = params[1] * (1 + params[3]*np.cos(2*np.pi*(t - params[4])))\n",
    "    betatcon = betat * (1 - params[6] * I**3/(0.03**3 + I**3))\n",
    "    infection = betatcon * S* I / params[0]\n",
    "    #infection is bsi with modified beta -this model doesnt use n\n",
    "    dS = params[10] * params[0] -infection - params[9] * S    # - params[:,7]*S\n",
    "    dE = infection - (params[9]+params[8])*E #+params[:,7]\n",
    "    dI = E * params[8] - (params[2]+params[9])*I #+params[:,7]\n",
    "    dR = params[2] * I - params[9] * R\n",
    "    return dS, dE, dI, dR\n",
    "\n",
    "def trajectoryN(start, t0, tmax, dt, params):\n",
    "    \"\"\"repeatedly applying odes until tmax is reached\"\"\"\n",
    "    populations = [start]\n",
    "    t = [t0]\n",
    "    while t[-1]<tmax:\n",
    "        dS, dE, dI , dR = odesN(populations[-1][0], populations[-1][1],populations[-1][2],populations[-1][3], t[-1], params)\n",
    "        populations.append(populations[-1] + dt*np.array([dS, dE, dI, dR]).T)\n",
    "        t.append(t[-1]+dt)\n",
    "        params[0]=sum(populations[-1])\n",
    "    return t, np.array(populations)\n"
   ]
  },
  {
   "cell_type": "code",
   "execution_count": 6,
   "metadata": {},
   "outputs": [],
   "source": [
    " \n",
    "t0=2020\n",
    "tmax=2022\n",
    "dt=0.001\n",
    "\n",
    "R0=2\n",
    "mu=0\n",
    "nu=0\n",
    "incubation=5/365\n",
    "sigma=1/incubation\n",
    "migration_rate=0 #not using\n",
    "containment=0.5\n",
    "climate=0 # not using\n",
    "theta=0\n",
    "epsilon=0.4 #for hubei\n",
    "gamma=72  #=rec \n",
    "beta= R0 * gamma #same as boks say if you ignore mu\n",
    "N0=1e3\n",
    "\n",
    "#[N, beta, rec, eps, theta, climate, containment, migration_rate, sigma, turnover]\n",
    "params=[N0,beta,gamma,epsilon,theta,climate,containment,migration_rate,sigma,mu,nu]\n",
    "\n",
    "start= [params[0]*1-5, params[0]*0, 10, params[0]*0]"
   ]
  },
  {
   "cell_type": "code",
   "execution_count": 7,
   "metadata": {},
   "outputs": [
    {
     "data": {
      "text/plain": [
       "[<matplotlib.lines.Line2D at 0x7f618fbfa240>]"
      ]
     },
     "execution_count": 7,
     "metadata": {},
     "output_type": "execute_result"
    },
    {
     "data": {
      "image/png": "[encoded data removed]",
      "text/plain": [
       "<matplotlib.figure.Figure at 0x7f618fc30898>"
      ]
     },
     "metadata": {
      "needs_background": "light"
     },
     "output_type": "display_data"
    }
   ],
   "source": [
    "t, populations = trajectoryN(start, t0, tmax, dt, params)\n",
    "infected=[i[2] for i in populations]\n",
    "susceptible=[i[0] for i in populations]\n",
    "exposed=[i[1] for i in populations]\n",
    "recovered=[i[3] for i in populations]\n",
    "all=[i[0]+i[1]+i[2]+i[3] for i in populations]\n",
    "\n",
    "fig, ax = plt.subplots(1, 1, figsize=(8,6))\n",
    "ax.plot(t, infected, lw=3, label='Total',color=\"red\")\n",
    "ax.plot(t, susceptible, lw=3, label='Total',color=\"blue\")\n",
    "ax.plot(t, exposed, lw=3, label='Total',color=\"orange\")\n",
    "ax.plot(t, recovered, lw=3, label='Total',color=\"green\")\n",
    "ax.plot(t, all, lw=3, label='Total',color=\"black\")"
   ]
  },
  {
   "cell_type": "code",
   "execution_count": 8,
   "metadata": {},
   "outputs": [
    {
     "data": {
      "text/plain": [
       "[<matplotlib.lines.Line2D at 0x7f618fc40588>]"
      ]
     },
     "execution_count": 8,
     "metadata": {},
     "output_type": "execute_result"
    },
    {
     "data": {
      "image/png": "[encoded data removed]",
      "text/plain": [
       "<matplotlib.figure.Figure at 0x7f618fd739e8>"
      ]
     },
     "metadata": {
      "needs_background": "light"
     },
     "output_type": "display_data"
    }
   ],
   "source": [
    "t, populations = trajectoryN(start, t0, tmax, dt, params)\n",
    "infected=[i[2] for i in populations]\n",
    "susceptible=[i[0] for i in populations]\n",
    "exposed=[i[1] for i in populations]\n",
    "recovered=[i[3] for i in populations]\n",
    "all=[i[0]+i[1]+i[2]+i[3] for i in populations]\n",
    "\n",
    "fig, ax = plt.subplots(1, 1, figsize=(8,6))\n",
    "ax.plot(t, infected, lw=3, label='Total',color=\"red\")"
   ]
  },
  {
   "cell_type": "markdown",
   "metadata": {},
   "source": [
    "### Parameter table-numbers\n",
    "|Parameter|Meaning|Unit|Origin|\n",
    "|------|------|------|------|\n",
    "|$\\alpha$     |rate of disease induced mortality (per capita?)   |$year^{-1}$|Bjørnstad 2018|\n",
    "|$\\beta$     |transmission rate per infective per day    | $year^{-1}$   |Keeling and Rohani 2007|\n",
    "|$\\beta_0$     |average annual infection rate|$year^{-1}$     |Neher 2020|\n",
    "|$\\gamma$     |recovery rate per year- probably of recovery for an individual per day (reciprocal of infectious period)   |$year^-1$|Keeling and Rohani 2007|\n",
    "|$\\mu$    |natural per capita death rate -not caused by disease|$day^-1$  |Keeling and Rohani 2007|\n",
    "|$\\nu$    |natural per capita birth rate |$year^{-1}$ |Keeling and Rohani 2007|\n",
    "|$\\sigma$     |rate of movement from E to I (reciprocal of latent period)|$year^-1$|Keeling and Rohani 2007|\n",
    "|$S$     |number of susceptibles    | $individuals^{-1}$   |Keeling and Rohani 2007|\n",
    "|$E$     |number of exposed |  $individuals^{-1}$    |Keeling and Rohani 2007|\n",
    "|$I$     |number of infected     |$individuals^{-1}$   |Keeling and Rohani 2007|\n",
    "|$R$     |number of recovered    |  $individuals^{-1}$  |Keeling and Rohani 2007|\n",
    "|$temp$  |temperature |degrees c|-|\n",
    "|$humidity$   |relative humidity|%|-|\n",
    "|$containment$ |containment parameter||Neher 2020|\n",
    "|$k$   |inflection point of Hill function||Neher 2020|\n",
    "|$\\epsilon$   |amplitude of seasonal forcing||Neher 2020|\n",
    "|$\\theta$  |time of peak transmissability||Neher 2020|\n",
    "\n",
    "kappa not used in these models but :|$\\kappa$   |average number of contacts per individual per unit time|$year^-1$ |Keeling and Rohani 2007|\n",
    "\n",
    "units calculated from:  \n",
    "units of de/dt,ds/st,di/dt, dr/dt $ individuals \\times year^{-1}$  "
   ]
  }
 ],
 "metadata": {
  "kernelspec": {
   "display_name": "Python 3",
   "language": "python",
   "name": "python3"
  },
  "language_info": {
   "codemirror_mode": {
    "name": "ipython",
    "version": 3
   },
   "file_extension": ".py",
   "mimetype": "text/x-python",
   "name": "python",
   "nbconvert_exporter": "python",
   "pygments_lexer": "ipython3",
   "version": "3.6.9"
  }
 },
 "nbformat": 4,
 "nbformat_minor": 2
}
