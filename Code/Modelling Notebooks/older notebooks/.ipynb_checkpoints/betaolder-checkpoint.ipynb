{
 "cells": [
  {
   "cell_type": "markdown",
   "metadata": {},
   "source": [
    "25/04"
   ]
  },
  {
   "cell_type": "markdown",
   "metadata": {},
   "source": [
    "## With Area"
   ]
  },
  {
   "cell_type": "markdown",
   "metadata": {},
   "source": [
    "### Functional response:  \n",
    "$ \\beta= \\frac{(1-e^{kd}) c_r  G }{ 1 + (1-e^{kd}) c_r G  h  S_d} =\\frac{(1-e^{kd}) c_r  G }{ 1 + (1-e^{kd}) c_r  h  S} $\n",
    "\n",
    "G is  area (area)  \n",
    "$c_r$ is contact rate (individuals/(individual x time))  - Temperature dependent?  \n",
    "k is the growth rate of the virus (will be negative as is decaying) (1/time)  - survivability of virus  \n",
    "d is the average contact duration (time)  - Temperature dependent?  \n",
    "h is the the time for a successful contact of an individual (time/individual)   \n",
    "$S_d$ is the density of susceptibles (individuals/area)  \n",
    "$S_d= \\frac{S}{G}$  \n",
    "*Units:* $\\beta$ is the transmissibility (area/time)\n",
    "\n",
    "\n",
    "the full functional response (number of (density of?) susceptibles who get infected per infected individual) is:  \n",
    "$\\beta S_d = \\frac{(1-e^{kd}) c_r  G  S_d}{ 1 + (1-e^{kd}) c_r G  h  S_d} = \\frac{(1-e^{kd}) c_r  S}{ 1 + (1-e^{kd}) c_r  h  S}$  \n",
    "\n",
    "*Units:* $ \\beta S_d $ is (individuals/time) \n",
    "\n",
    " \n",
    "the full term (think of as the proportion of population having this effect) is:  \n",
    "$\\frac {\\beta S_d I_d}{N_d}  = \\frac{(1-e^{kd}) c_r  G  S_d}{ 1 + (1-e^{kd}) c_r G  h  S} \\times \\frac{I_d}{N_d} = \\frac{(1-e^{kd}) c_r  S}{ 1 + (1-e^{kd}) c_r h  S} \\times \\frac{\\frac{I}{G}}{\\frac{N}{G}} = \\frac{(1-e^{kd}) c_r  S}{ 1 + (1-e^{kd}) c_r h  S} \\times \\frac{I}{N} $   \n",
    "*Units:* $ \\frac {\\beta S_d I_d}{N_d}$  is (individuals/time)\n",
    "\n",
    "possibility to add f to this "
   ]
  },
  {
   "cell_type": "markdown",
   "metadata": {},
   "source": [
    " ### Modification of Valle 2013:  \n",
    "type I functional response?\n",
    "\n",
    "\n",
    "$\\beta = (1-e^{kd}) c_r  f G $  \n",
    "f is maximum infectivity (eg maximum of 50% of contacts lead to infectious)  \n",
    "Modifications:  \n",
    "Valles uses number of transmission events per unit time  x duration of a contact    \n",
    "I have ignored susceptibility as no vacccinations   \n",
    "I have added g here  "
   ]
  },
  {
   "cell_type": "markdown",
   "metadata": {},
   "source": [
    "## Without area"
   ]
  },
  {
   "cell_type": "markdown",
   "metadata": {},
   "source": [
    "### Functional response:  \n",
    "$ \\beta= \\frac{(1-e^{kd}) c_r }{ 1 + (1-e^{kd}) c_r h  S} $\n",
    "\n",
    "$c_r$ is contact rate (individuals/(individual x time))   \n",
    "k is the growth rate of the virus (will be negative as is decaying) (1/time)  \n",
    "d is the average contact duration (time)  \n",
    "h is the the time for a successful contact of an individual (time/individual)   \n",
    "S is the number  of susceptibles (individuals)  \n",
    "*Units:* $\\beta$ is the transmissibility (ind/(ind x time))\n",
    "\n",
    "\n",
    "the full functional response (number of (density of?) susceptibles who get infected per infected individual) is:  \n",
    "$ \\beta= \\frac{(1-e^{kd}) c_r S }{ 1 + (1-e^{kd}) c_r h  S} $\n",
    "\n",
    "*Units:* $ \\beta S $ is (individuals/time) \n",
    "\n",
    " \n",
    "the full term (think of as the proportion of population having this effect) is:  \n",
    "$\\frac {\\beta S I}{N}  =\\frac{(1-e^{kd}) c_r  S}{ 1 + (1-e^{kd}) c_r h  S} \\times \\frac{I}{N} $\n",
    "\n",
    "*Units:* $ \\frac {\\beta S I}{N}$  is (individuals/time)"
   ]
  },
  {
   "cell_type": "markdown",
   "metadata": {},
   "source": [
    " ### Modification of Valle 2013:  \n",
    "type I functional response?\n",
    "\n",
    "$\\beta = (1-e^{kd}) c_r  f  $  \n",
    "f is maximum infectivity (eg maximum of 50% of contacts lead to infectious)  \n",
    "Modifications:  \n",
    "Valles uses number of transmission events per unit time  x duration of a contact    \n",
    "I have ignored susceptibility as no vacccinations   "
   ]
  },
  {
   "cell_type": "markdown",
   "metadata": {},
   "source": [
    "## With Area\n",
    "### Functional response:  \n",
    "$ \\beta= \\frac{(1-e^{kd}) c_r  G }{ 1 + (1-e^{kd}) c_r G  h  \\frac{S_d}{N_d}} =\\frac{(1-e^{kd}) c_r  G }{ 1 + (1-e^{kd}) c_r  h G   \\frac{S}{N}} $\n",
    "\n",
    "G is  area (area)  \n",
    "$c_r$ is contact rate (individuals/(individual x time))  - Temperature dependent?  \n",
    "k is the growth rate of the virus (will be negative as is decaying) (1/time)  - survivability of virus  \n",
    "d is the average contact duration (time)  - Temperature dependent?  \n",
    "h is the the time for a successful contact of an individual (time)   \n",
    "\n",
    "$S_d=\\frac{S}{G}$  \n",
    "$I_d=\\frac{I}{G}$  \n",
    "$N_d=\\frac{N}{G}$  \n",
    "$\\frac{S_d}{N_d}$ is the density of susceptibles (proportion/area)  \n",
    "$\\frac{S_d}{N_d}= \\frac{\\frac{S}{G}}{\\frac{N}{G}}=\\frac{S}{N}$   \n",
    "*Units:* $\\beta$ is the transmissibility (area/time)\n",
    "\n",
    "\n",
    "the full functional response (number of (density of?) susceptibles who get infected per infected individual) is:  \n",
    "$ \\beta \\frac{S_d}{N_d}= \\frac{(1-e^{kd}) c_r  G  }{ 1 + (1-e^{kd}) c_r G  h  \\frac{S_d}{N_d}} \\times \\frac{\\frac{S}{G}}{\\frac{N}{G}} =\\frac{(1-e^{kd}) c_r  G \\frac{S}{N}}{ 1 + (1-e^{kd}) c_r  h G   \\frac{S}{N}} $\n",
    "\n",
    "\n",
    "$\\beta \\frac{S_d}{N_d} = \\frac{(1-e^{kd}) c_r  G  \\frac{S_d}{N}}{ 1 + (1-e^{kd}) c_r G  h  \\frac{S_d}{N}} = \\frac{(1-e^{kd}) c_r  \\frac{S}{N}}{ 1 + (1-e^{kd}) c_r  h  \\frac{S}{N}}$  \n",
    "\n",
    "*Units:* $ \\beta \\frac{S_d}{N} $ is (individuals/time) \n",
    "\n",
    " \n",
    "the full term (think of as the proportion of population having this effect) is:  \n",
    "$\\beta \\frac{S_d}{N} I_d = \\frac{(1-e^{kd}) c_r  G  \\frac{S_d}{N}}{ 1 + (1-e^{kd}) c_r G  h  \\frac{S_d}{N}} \\times I_d = \\frac{(1-e^{kd}) c_r  \\frac{S}{N}}{ 1 + (1-e^{kd}) c_r  h  \\frac{S}{N}}$\n",
    "\n",
    "\n",
    "$ \\beta \\frac{S_d}{N} I_d  = \\frac{(1-e^{kd}) c_r  G  \\frac{S_d}{N}}{ 1 + (1-e^{kd}) c_r G  h  \\frac{S_d}{N} \\times I_d = \\frac{(1-e^{kd}) c_r  S}{ 1 + (1-e^{kd}) c_r h  S} \\times \\frac{I}{G} = \\frac{(1-e^{kd}) c_r  S}{ 1 + (1-e^{kd}) c_r h  S} \\times I $   \n",
    "*Units:* $ \\frac {\\beta \\frac{S_d}{N} I_d}{N_d}$  is (individuals/time)\n",
    "\n",
    "possibility to add f to this \n",
    "### Modification of Valle 2013:  \n",
    "type I functional response?\n",
    "\n",
    "\n",
    "$\\beta = (1-e^{kd}) c_r  f G $  \n",
    "f is maximum infectivity (eg maximum of 50% of contacts lead to infectious)  \n",
    "Modifications:  \n",
    "Valles uses number of transmission events per unit time  x duration of a contact    \n",
    "I have ignored susceptibility as no vacccinations   \n",
    "I have added g here \n",
    "\n",
    "### Functional response:  \n",
    "$ \\beta= \\frac{(1-e^{kd}) c_r }{ 1 + (1-e^{kd}) c_r h  \\frac{S}{N} }$  \n",
    "$ \\beta \\frac{S}{N}= \\frac{(1-e^{kd}) c_r \\frac{S}{N}}{ 1 + (1-e^{kd}) c_r h  \\frac{S}{N} }$  \n",
    "$ \\beta \\frac{SI}{N}= \\frac{(1-e^{kd}) c_r \\frac{SI}{N}}{ 1 + (1-e^{kd}) c_r h  \\frac{S}{N} }$\n",
    "\n",
    "\n",
    "\n",
    "$c_r$ is contact rate (individuals/(individual x time))   \n",
    "k is the growth rate of the virus (will be negative as is decaying) (1/time)  \n",
    "d is the average contact duration (time)  \n",
    "h is the the time for a successful contact of an individual (time/individual)   \n",
    "S is the number  of susceptibles (individuals)  \n",
    "*Units:* $\\beta$ is the transmissibility (ind/(ind x time))\n",
    "\n",
    "\n",
    "the full functional response (number of (density of?) susceptibles who get infected per infected individual) is:  \n",
    "$ \\beta= \\frac{(1-e^{kd}) c_r S }{ 1 + (1-e^{kd}) c_r h  S} $\n",
    "\n",
    "*Units:* $ \\beta S $ is (individuals/time) \n",
    "\n",
    " \n",
    "the full term (think of as the proportion of population having this effect) is:  \n",
    "$\\frac {\\beta S I}{N}  =\\frac{(1-e^{kd}) c_r  S}{ 1 + (1-e^{kd}) c_r h  S} \\times \\frac{I}{N} $\n",
    "\n",
    "*Units:* $ \\frac {\\beta S I}{N}$  is (individuals/time) \n",
    " ### Modification of Valle 2013:  \n",
    "type I functional response?\n",
    "\n",
    "$\\beta = (1-e^{kd}) c_r  f  $  \n",
    "f is maximum infectivity (eg maximum of 50% of contacts lead to infectious)  \n",
    "Modifications:  \n",
    "Valles uses number of transmission events per unit time  x duration of a contact    \n",
    "I have ignored susceptibility as no vacccinations   "
   ]
  },
  {
   "cell_type": "markdown",
   "metadata": {},
   "source": [
    "26/04 "
   ]
  },
  {
   "cell_type": "markdown",
   "metadata": {},
   "source": [
    "#### Parameters\n",
    "$S/N$ is proportion of susceptibles  \n",
    "$S/NG$ is density proportion of susceptibles    \n",
    "d is average contact duration of a contact (days)   \n",
    "k is growth per day (negative)- S   \n",
    "G is area  \n",
    "c_R is contacts per day  (1/day)\n",
    "h is contact length for infection needed (days)  \n",
    "S is no of susceptibles  \n",
    "I is no of infectives  \n",
    "N is pop size  \n",
    "#### With area\n",
    "transmissibility:  \n",
    "$ \\beta= \\frac{(1-e^{kd}) c_r f G }{ 1 + (1-e^{kd}) c_r G f h  \\frac{S}{NG}} =\\frac{(1-e^{kd}) c_r f G }{ 1 + (1-e^{kd}) c_r f h \\frac{S}{N}} $  *units*: area/time   \n",
    "functional response (no of susceptibles infected by infected):   \n",
    "$ \\beta \\frac{S}{NG} = \\frac{(1-e^{kd}) c_r f G \\frac{S}{NG} }{ 1 + (1-e^{kd}) c_r G f h  \\frac{S}{NG}} =\\frac{(1-e^{kd}) c_r f \\frac{S}{N} }{ 1 + (1-e^{kd}) c_r f h \\frac{S}{N}} $  \n",
    "number of infected overall:  \n",
    "$ \\beta \\frac{IS}{NG} = \\frac{(1-e^{kd}) c_r f G \\frac{IS}{NG} }{ 1 + (1-e^{kd}) c_r G f h  \\frac{S}{NG}} =\\frac{(1-e^{kd}) c_r f \\frac{IS}{N} }{ 1 + (1-e^{kd}) c_r f h \\frac{S}{N}} $  \n",
    "    \n",
    "\n",
    "  \n",
    "    \n",
    "      \n",
    "this is a weird way of doing it - I was trying to keep area\n",
    "#### Without area:    \n",
    "transmissibility:  \n",
    "$ \\beta= \\frac{(1-e^{kd}) f c_r }{ 1 + (1-e^{kd}) c_r  f h  \\frac{S}{N}} $  *units* : individuals/(individual x time)  \n",
    "functional response (no of susceptibles infected by infected):    \n",
    "$ \\beta \\frac{S}{N} = \\frac{(1-e^{kd}) c_r f \\frac{S}{N} }{ 1 + (1-e^{kd}) c_r f h  \\frac{S}{N}}  $  \n",
    "\n",
    "number of infected overall:  \n",
    "$ \\beta \\frac{IS}{N} = \\frac{(1-e^{kd}) c_r f  \\frac{IS}{N} }{ 1 + (1-e^{kd}) c_r f h  \\frac{S}{N}} $\n",
    "  \n",
    "  \n",
    "  \n",
    "  \n",
    "  \n",
    "\n",
    "#### modification of valle 2013 (also similar to type I functional response)  \n",
    "$\\beta = (1-e^{kd}) c_r  f $  \n",
    "f is maximum infectivity (eg maximum of 50% of contacts lead to infectious)  \n",
    "Modifications:  \n",
    "Valles uses number of transmission events per unit time  x duration of a contact    \n",
    "I have ignored susceptibility as no vacccinations   \n",
    "I have added g here  \n",
    "\n",
    "\n",
    "\n",
    "\n",
    "\n",
    "\n",
    "\n",
    "\n",
    "\n",
    "#### plan with climate:  \n",
    "k is just S  \n",
    "social behaviour- d, c_R and h could all be affected by climate"
   ]
  },
  {
   "cell_type": "code",
   "execution_count": 1,
   "metadata": {},
   "outputs": [
    {
     "data": {
      "text/html": [
       "1.28433761793185"
      ],
      "text/latex": [
       "1.28433761793185"
      ],
      "text/markdown": [
       "1.28433761793185"
      ],
      "text/plain": [
       "[1] 1.284338"
      ]
     },
     "metadata": {},
     "output_type": "display_data"
    },
    {
     "data": {
      "text/html": [
       "4.40954451289589"
      ],
      "text/latex": [
       "4.40954451289589"
      ],
      "text/markdown": [
       "4.40954451289589"
      ],
      "text/plain": [
       "[1] 4.409545"
      ]
     },
     "metadata": {},
     "output_type": "display_data"
    },
    {
     "data": {
      "text/html": [
       "0.440513937352237"
      ],
      "text/latex": [
       "0.440513937352237"
      ],
      "text/markdown": [
       "0.440513937352237"
      ],
      "text/plain": [
       "[1] 0.4405139"
      ]
     },
     "metadata": {},
     "output_type": "display_data"
    },
    {
     "data": {
      "text/html": [
       "0.440513937352237"
      ],
      "text/latex": [
       "0.440513937352237"
      ],
      "text/markdown": [
       "0.440513937352237"
      ],
      "text/plain": [
       "[1] 0.4405139"
      ]
     },
     "metadata": {},
     "output_type": "display_data"
    },
    {
     "data": {
      "text/html": [
       "4.42987180739423"
      ],
      "text/latex": [
       "4.42987180739423"
      ],
      "text/markdown": [
       "4.42987180739423"
      ],
      "text/plain": [
       "[1] 4.429872"
      ]
     },
     "metadata": {},
     "output_type": "display_data"
    },
    {
     "data": {
      "text/html": [
       "0.44254463610332"
      ],
      "text/latex": [
       "0.44254463610332"
      ],
      "text/markdown": [
       "0.44254463610332"
      ],
      "text/plain": [
       "[1] 0.4425446"
      ]
     },
     "metadata": {},
     "output_type": "display_data"
    },
    {
     "data": {
      "text/html": [
       "0.440954451289589"
      ],
      "text/latex": [
       "0.440954451289589"
      ],
      "text/markdown": [
       "0.440954451289589"
      ],
      "text/plain": [
       "[1] 0.4409545"
      ]
     },
     "metadata": {},
     "output_type": "display_data"
    },
    {
     "data": {
      "text/html": [
       "0.44254463610332"
      ],
      "text/latex": [
       "0.44254463610332"
      ],
      "text/markdown": [
       "0.44254463610332"
      ],
      "text/plain": [
       "[1] 0.4425446"
      ]
     },
     "metadata": {},
     "output_type": "display_data"
    },
    {
     "data": {
      "text/html": [
       "66.9726423476195"
      ],
      "text/latex": [
       "66.9726423476195"
      ],
      "text/markdown": [
       "66.9726423476195"
      ],
      "text/plain": [
       "[1] 66.97264"
      ]
     },
     "metadata": {},
     "output_type": "display_data"
    },
    {
     "data": {
      "text/html": [
       "0.663095468788312"
      ],
      "text/latex": [
       "0.663095468788312"
      ],
      "text/markdown": [
       "0.663095468788312"
      ],
      "text/plain": [
       "[1] 0.6630955"
      ]
     },
     "metadata": {},
     "output_type": "display_data"
    },
    {
     "data": {
      "text/html": [
       "221.493590369712"
      ],
      "text/latex": [
       "221.493590369712"
      ],
      "text/markdown": [
       "221.493590369712"
      ],
      "text/plain": [
       "[1] 221.4936"
      ]
     },
     "metadata": {},
     "output_type": "display_data"
    },
    {
     "data": {
      "text/html": [
       "2.19300584524467"
      ],
      "text/latex": [
       "2.19300584524467"
      ],
      "text/markdown": [
       "2.19300584524467"
      ],
      "text/plain": [
       "[1] 2.193006"
      ]
     },
     "metadata": {},
     "output_type": "display_data"
    },
    {
     "data": {
      "text/html": [
       "0.669726423476195"
      ],
      "text/latex": [
       "0.669726423476195"
      ],
      "text/markdown": [
       "0.669726423476195"
      ],
      "text/plain": [
       "[1] 0.6697264"
      ]
     },
     "metadata": {},
     "output_type": "display_data"
    },
    {
     "data": {
      "text/html": [
       "0.663095468788312"
      ],
      "text/latex": [
       "0.663095468788312"
      ],
      "text/markdown": [
       "0.663095468788312"
      ],
      "text/plain": [
       "[1] 0.6630955"
      ]
     },
     "metadata": {},
     "output_type": "display_data"
    },
    {
     "data": {
      "text/html": [
       "2.21493590369712"
      ],
      "text/latex": [
       "2.21493590369712"
      ],
      "text/markdown": [
       "2.21493590369712"
      ],
      "text/plain": [
       "[1] 2.214936"
      ]
     },
     "metadata": {},
     "output_type": "display_data"
    },
    {
     "data": {
      "text/html": [
       "2.19300584524467"
      ],
      "text/latex": [
       "2.19300584524467"
      ],
      "text/markdown": [
       "2.19300584524467"
      ],
      "text/plain": [
       "[1] 2.193006"
      ]
     },
     "metadata": {},
     "output_type": "display_data"
    },
    {
     "data": {
      "text/html": [
       "0.955857113393997"
      ],
      "text/latex": [
       "0.955857113393997"
      ],
      "text/markdown": [
       "0.955857113393997"
      ],
      "text/plain": [
       "[1] 0.9558571"
      ]
     },
     "metadata": {},
     "output_type": "display_data"
    },
    {
     "data": {
      "text/html": [
       "0.00955761537240273"
      ],
      "text/latex": [
       "0.00955761537240273"
      ],
      "text/markdown": [
       "0.00955761537240273"
      ],
      "text/plain": [
       "[1] 0.009557615"
      ]
     },
     "metadata": {},
     "output_type": "display_data"
    },
    {
     "data": {
      "text/html": [
       "221.493590369712"
      ],
      "text/latex": [
       "221.493590369712"
      ],
      "text/markdown": [
       "221.493590369712"
      ],
      "text/plain": [
       "[1] 221.4936"
      ]
     },
     "metadata": {},
     "output_type": "display_data"
    },
    {
     "data": {
      "text/html": [
       "2.21471443225389"
      ],
      "text/latex": [
       "2.21471443225389"
      ],
      "text/markdown": [
       "2.21471443225389"
      ],
      "text/plain": [
       "[1] 2.214714"
      ]
     },
     "metadata": {},
     "output_type": "display_data"
    },
    {
     "data": {
      "text/html": [
       "0.00955857113393997"
      ],
      "text/latex": [
       "0.00955857113393997"
      ],
      "text/markdown": [
       "0.00955857113393997"
      ],
      "text/plain": [
       "[1] 0.009558571"
      ]
     },
     "metadata": {},
     "output_type": "display_data"
    },
    {
     "data": {
      "text/html": [
       "95.5857113393997"
      ],
      "text/latex": [
       "95.5857113393997"
      ],
      "text/markdown": [
       "95.5857113393997"
      ],
      "text/plain": [
       "[1] 95.58571"
      ]
     },
     "metadata": {},
     "output_type": "display_data"
    },
    {
     "data": {
      "text/html": [
       "0.00955761537240273"
      ],
      "text/latex": [
       "0.00955761537240273"
      ],
      "text/markdown": [
       "0.00955761537240273"
      ],
      "text/plain": [
       "[1] 0.009557615"
      ]
     },
     "metadata": {},
     "output_type": "display_data"
    },
    {
     "data": {
      "text/html": [
       "2.21493590369712"
      ],
      "text/latex": [
       "2.21493590369712"
      ],
      "text/markdown": [
       "2.21493590369712"
      ],
      "text/plain": [
       "[1] 2.214936"
      ]
     },
     "metadata": {},
     "output_type": "display_data"
    },
    {
     "data": {
      "text/html": [
       "22149.3590369712"
      ],
      "text/latex": [
       "22149.3590369712"
      ],
      "text/markdown": [
       "22149.3590369712"
      ],
      "text/plain": [
       "[1] 22149.36"
      ]
     },
     "metadata": {},
     "output_type": "display_data"
    },
    {
     "data": {
      "text/html": [
       "2.21471443225389"
      ],
      "text/latex": [
       "2.21471443225389"
      ],
      "text/markdown": [
       "2.21471443225389"
      ],
      "text/plain": [
       "[1] 2.214714"
      ]
     },
     "metadata": {},
     "output_type": "display_data"
    },
    {
     "data": {
      "text/html": [
       "2.21493590369712"
      ],
      "text/latex": [
       "2.21493590369712"
      ],
      "text/markdown": [
       "2.21493590369712"
      ],
      "text/plain": [
       "[1] 2.214936"
      ]
     },
     "metadata": {},
     "output_type": "display_data"
    },
    {
     "data": {
      "text/html": [
       "21.9300584524467"
      ],
      "text/latex": [
       "21.9300584524467"
      ],
      "text/markdown": [
       "21.9300584524467"
      ],
      "text/plain": [
       "[1] 21.93006"
      ]
     },
     "metadata": {},
     "output_type": "display_data"
    }
   ],
   "source": [
    "#including area\n",
    "d<-4/24  #units -time(days)\n",
    "k<--30  #decay (days)\n",
    "G<-10  #area\n",
    "c_r<-13  # per day\n",
    "h<-0.1/24 #days\n",
    "S<-1000 #\n",
    "I<-1\n",
    "f<-0.1 # maximum possibly transmissibility . not all contacts. eg in school\n",
    "N<-(S+I)\n",
    "X<-S/N  #proportion \n",
    "Y<-I/N\n",
    "beta= ((1-exp(k*d))*c_r *f * G)/( 1 + (1-exp(k*d)) * c_r *f * h *G* (X/G)) \n",
    "betas=beta*(X/G)\n",
    "betaf=beta*I*(X/G)\n",
    "\n",
    "\n",
    "\n",
    "#beta\n",
    "#betas\n",
    "#betaf\n",
    "beta1= ((1-exp(k*d))*c_r * f * G)* X/G\n",
    "#beta1\n",
    "\n",
    "\n",
    "#removing area\n",
    "#betas and betaf are unnaffected by g. so instead (as gs cancel)\n",
    "beta= ((1-exp(k*d))* f *c_r)/( 1 + (1-exp(k*d)) * c_r * f  * h *(X)) \n",
    "betas=beta*(X)\n",
    "betaf=beta*I*(X)\n",
    "\n",
    "beta\n",
    "#betas\n",
    "#betaf\n",
    "beta1= ((1-exp(k*d))*c_r)*f * X\n",
    "#beta1\n",
    "\n",
    "#nly beta is changed by this, but cancels when multiplies\n",
    "#fixing h/d\n",
    "#including area\n",
    "d<-0.5/24  #units -time(days)\n",
    "k<--30  #decay (days)\n",
    "G<-10  #area per individuals\n",
    "c_r<-13  # individyaks per day\n",
    "h<-0.25/24 #days\n",
    "S<-1000 #\n",
    "I<-1\n",
    "f<-0.1 # maximum possibly transmissibility . not all contacts. eg in school\n",
    "N<-(S+I)\n",
    "X<-S/N  #proportion \n",
    "Y<-I/N\n",
    "beta= ((1-exp(k*d*(d/(h+d))))*c_r *f * G)/( 1 + (1-exp(k*d*(d/(h+d)))) * c_r *f * h *G* (X/G)) \n",
    "betas=beta*(X/G)\n",
    "betaf=beta*I*(X/G)\n",
    "\n",
    "\n",
    "\n",
    "beta\n",
    "betas\n",
    "betaf\n",
    "beta1= ((1-exp(k*d*(d/(h+d))))*c_r * f * G)\n",
    "beta1f=beta1* X/G\n",
    "beta1\n",
    "beta1f\n",
    "\n",
    "#removing area\n",
    "#betas and betaf are unnaffected by g. so instead (as gs cancel)\n",
    "beta= ((1-exp(k*d*(d/(h+d))))* f *c_r)/( 1 + (1-exp(k*d*(d/(h+d)))) * c_r * f  * h *(X)) \n",
    "betas=beta*(X)\n",
    "betaf=beta*I*(X)\n",
    "\n",
    "beta\n",
    "#betas\n",
    "#betaf\n",
    "beta1= ((1-exp(k*d*(d/(h+d))))*c_r)*f * X\n",
    "beta1\n",
    "\n",
    "#nly beta is changed by this, but cancels when multiplies\n",
    "#form of S\n",
    "#including area\n",
    "d<- 0.5 / 24  #units -time(days)\n",
    "k<- -30  #decay (days)\n",
    "G<-100  #area \n",
    "c_r<-13  # indivudals per individual per day   \n",
    "h<-0.25 / 24 #days\n",
    "S<-100 # individuals\n",
    "I<-1\n",
    "f<-0.5 # maximum possibly transmissibility . not all contacts. eg in school\n",
    "N<-( S + I )\n",
    "X<- S / N  #proportion \n",
    "Y<- I / N\n",
    "beta = ( ( 1 - exp ( k * d * ( d / ( h + d ) ) ) ) * c_r * f * G)/\n",
    "        ( 1 + ( 1 - exp ( k * d * ( d / ( h + d ) ) ) ) * c_r * f * h * G * ( S / G ) ) \n",
    "betaf = beta * ( S / G ) * ( ( I / G ) / ( N / G ) )\n",
    "\n",
    "\n",
    "\n",
    "beta\n",
    "betaf\n",
    "beta1 = ( ( 1 - exp( k * d * ( d / ( h + d ) ) ) ) * c_r * f * G)\n",
    "beta1\n",
    "beta1f = beta1 * ( S / G ) * ( ( I / G ) / ( N / G ) )\n",
    "beta1f\n",
    "\n",
    "#removing area\n",
    "#betas and betaf are unnaffected by g. so instead (as gs cancel)\n",
    "beta = ( ( 1 - exp ( k * d * ( d / ( h + d ) ) ) ) *   f   * c_r ) /\n",
    "    (   1  + ( 1 - exp ( k * d * ( d / ( h + d ) ) ) )   *  c_r * f  * h *S) \n",
    "betas = beta * S\n",
    "betaf = beta * I * ( S / N)\n",
    "\n",
    "beta\n",
    "betaf\n",
    "beta1 = ( 1 - exp ( k * d * ( d / ( h + d ) ) ) ) * c_r * f \n",
    "beta1f=beta1 * I * ( S / N)\n",
    "beta1\n",
    "beta1f\n",
    "\n",
    "#nly beta is changed by this, but cancels when multiplies\n",
    "\n",
    "\n",
    "#form of S, cr different\n",
    "#including area\n",
    "# issue is units still \n",
    "d<- 0.5 / 24  #units -time(days)\n",
    "k<- -30  #decay (1/day)\n",
    "G<-100  #area \n",
    "c_rA<-13 * G  # area per day   \n",
    "c_r<-13 #per day (ind/ind)   \n",
    "h<-0.25 / 24 #days\n",
    "S<-10000 # individuals\n",
    "I<-1#individuals\n",
    "\n",
    "f<-0.5 # maximum possibly transmissibility . not all contacts. eg in school\n",
    "N<-( S + I )\n",
    "X<- S / N  #proportion \n",
    "Y<- I / N\n",
    "beta = ( ( 1 - exp ( k * d * ( d / ( h + d ) ) ) ) * c_rA * f )/\n",
    "        ( 1 + ( 1 - exp ( k * d * ( d / ( h + d ) ) ) ) * c_rA * f * h * ( S / G ) ) \n",
    "betaf = beta * ( S / G ) * ( ( I / G ) / ( N / G ) )\n",
    "\n",
    "\n",
    "\n",
    "beta\n",
    "betaf\n",
    "beta1 = ( ( 1 - exp( k * d * ( d / ( h + d ) ) ) ) * c_rA * f )\n",
    "beta1\n",
    "beta1f = beta1 * ( S / G ) * ( ( I / G ) / ( N / G ) )\n",
    "beta1f\n",
    "\n",
    "#removing area\n",
    "#betas and betaf are unnaffected by g. so instead (as gs cancel)\n",
    "beta = ( ( 1 - exp ( k * d * ( d / ( h + d ) ) ) ) *   f   * c_r ) /\n",
    "    (   1  + ( 1 - exp ( k * d * ( d / ( h + d ) ) ) )   *  c_r * f  * h *S) \n",
    "betas = beta * S \n",
    "betaf = beta * I * ( S / N)\n",
    "\n",
    "beta\n",
    "betas\n",
    "betaf\n",
    "beta1 = ( 1 - exp( k * d * ( d / ( h + d ) ) ) ) * c_r * f \n",
    "beta1s = beta1 * S \n",
    "beta1f=beta1 * I * ( S / N)\n",
    "beta1\n",
    "beta1s\n",
    "beta1f\n",
    "\n",
    "\n",
    "#nly beta is changed by this, but cancels when multiplies\n",
    "\n",
    "\n",
    "\n",
    "#form of S, cr different\n",
    "#including area\n",
    "# trying to fix units by rederining beta\n",
    "d<- 0.5 / 24  #units -time(days)\n",
    "h<-0.25 / 24 #days\n",
    "k<- -30  #decay (1/day)\n",
    "G<-100  #area \n",
    "S<-1000 # individuals\n",
    "I<-10#individuals\n",
    "f<-0.5 # maximum possibly transmissibility . not all contacts. eg in school\n",
    "N<-( S + I )\n",
    "X<- S / N  #proportion \n",
    "Y<- I / N\n",
    "\n",
    "\n",
    "c_rA<-13 * N/G  #    \n",
    "c_r<-13 #individuals/individual/day  \n",
    "\n",
    "\n",
    "beta = ( ( 1 - exp ( k * d * ( d / ( h + d ) ) ) ) * c_rA * f )/\n",
    "        ( 1 + ( 1 - exp ( k * d * ( d / ( h + d ) ) ) ) * c_rA * f * h * ( S / G ) ) \n",
    "betaf = beta * ( S / G ) * ( ( I / G ) / ( N / G ) )\n",
    "\n",
    "\n",
    "\n",
    "#beta\n",
    "#betaf\n",
    "beta1 = ( ( 1 - exp( k * d * ( d / ( h + d ) ) ) ) * c_rA * f )\n",
    "#beta1\n",
    "beta1f = beta1 * ( S / G ) * ( ( I / G ) / ( N / G ) )\n",
    "#beta1f\n",
    "\n",
    "#removing area\n",
    "#betas and betaf are unnaffected by g. so instead (as gs cancel)\n",
    "\n",
    "\n",
    "\n",
    "beta = ( ( 1 - exp ( k * d * ( d / ( h + d ) ) ) ) *   f   * c_r  * S) /\n",
    "    (   1  + ( 1 - exp ( k * d * ( d / ( h + d ) ) ) )   *  c_r * f  * h *S) \n",
    "betas = beta * S \n",
    "betaf = beta * I * ( S / N)\n",
    "\n",
    "#beta\n",
    "#betas\n",
    "#betaf\n",
    "beta1 = ( 1 - exp( k * d * ( d / ( h + d ) ) ) ) * c_r * f \n",
    "beta1s = beta1 * S \n",
    "beta1f=beta1 * I * ( S / N)\n",
    "beta1\n",
    "#beta1s\n",
    "beta1f\n",
    "\n",
    "\n",
    "#nly beta is changed by this, but cancels when multiplies"
   ]
  },
  {
   "cell_type": "code",
   "execution_count": null,
   "metadata": {},
   "outputs": [],
   "source": []
  }
 ],
 "metadata": {
  "kernelspec": {
   "display_name": "R",
   "language": "R",
   "name": "ir"
  },
  "language_info": {
   "codemirror_mode": "r",
   "file_extension": ".r",
   "mimetype": "text/x-r-source",
   "name": "R",
   "pygments_lexer": "r",
   "version": "3.6.3"
  }
 },
 "nbformat": 4,
 "nbformat_minor": 2
}
