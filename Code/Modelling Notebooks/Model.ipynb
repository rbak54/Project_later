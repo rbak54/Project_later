{
 "cells": [
  {
   "cell_type": "markdown",
   "metadata": {},
   "source": [
    "## Model\n",
    "  $\\frac{dS}{dt} = \\nu  N - \\frac{\\beta  I  S} {N} - \\mu S\\\\\n",
    "  \\frac{dE}{dt}=  \\frac{\\beta  I  S} {N} - (\\sigma + \\mu) E\\\\\n",
    "  \\frac{dI}{dt} = \\sigma  E - (\\alpha + \\mu + \\gamma) I\\\\\n",
    "  \\frac{dR}{dt} = \\gamma I - \\mu R $  \n",
    "\n",
    "$\\beta = c_r   \\times  \\epsilon \\times  \\frac{\\frac{1}{b}(1-e^{-bd})}{\\frac{1}{b}(1-e^{-bd})+h} $  \n",
    "$\\beta=$ number contacts per unit time x probability of disease transmission per contact  \n",
    "$[\\beta]=[c_r]=individual/(individual x day) \\times unitless $\n",
    "\n",
    "Model is frequency dependent\n",
    "#### Climate dependence\n",
    "$\\beta(C) = c_r(C)   \\times  \\epsilon \\times  \\frac{\\frac{1}{b(C)}(1-e^{-b(C)d})}{\\frac{1}{b(C)}(1-e^{-b(C)d})+h} $ \n",
    "\n",
    "Guinea pig transmission study is evidence that climate mediates transmission\n",
    "\n",
    "\n",
    "Decision to assume d constant because the effect of this is minimal \n",
    "\n",
    "$\\beta(c_R(C),b(C))$\n",
    " ##### Contact Rate\n",
    "\n",
    "c_R(C)=maximum_contact_rate$\\times e^{\\frac{-(Combined\\_Climate - Climate\\_Maximum\\_Contact\\_Rate) ^ 2}{ 2 s ^ 2}}$  \n",
    "  This is based on a normal distribution scaled up so the maximum is the maximum contact rate.  \n",
    "s = (quantile_cr_upper - ClimateMaximumContactRate) OR s = -(quantile_cr_lower - Climate_Maximum_Contact_Rate)   depending on where Climate_Maximum_Contact_Rate lies. Specificially lower quantile is used when Climate_Maximum_Contact_Rate is closer to the upper quartile than the lower quartile, and vice versa. \n",
    " ##### Mortality Rate \n",
    "very much rethinking this, see below \n",
    "\n",
    "$b(C)=-q(C)$    \n",
    "$q(C)= a Climate ^ 2 + b Climate + c$  \n",
    "\n",
    "$a=\\frac {minimum\\_survival - maximum\\_survival}{(Climate\\_minimum\\_survival - Climate\\_maximum\\_survival) ^ 2}$  \n",
    " \n",
    "$b=-2 \\times Climate\\_maximum\\_survival(\\frac {minimum\\_survival - maximum\\_survival}{(Climate\\_minimum\\_survival - Climate\\_maximum\\_survival) ^ 2})$  \n",
    "\n",
    " $c=\\frac {minimum\\_survival - maximum\\_survival}{(Climate\\_minimum\\_survival - Climate\\_maximum\\_survival) ^ 2} \\times Climate\\_maximum\\_survival ^2 + maximum\\_survival$ \n",
    "\n",
    "this is just from substituting the vertex and another point (chosen to be the point of minimum survival here) into $y = a(x – h)2 + k$ i.e.  $ minimum\\_survival= a(Climate\\_minimum\\_survival – Climate\\_maximum\\_survival)2 + maximum\\_survival$ and solving for a. $ y= a(x – Climate\\_maximum\\_survival)2 + maximum\\_survival$ was then rearranged to find b and c.   \n",
    "\n",
    "The value of Climate_minimum_survival is either the lower or upper end of range_q. The function is symmetrical so the lower end is used when the Climate_maximum_survival is closer to the upper end and vice versa. \n",
    "\n",
    "\n"
   ]
  },
  {
   "cell_type": "markdown",
   "metadata": {},
   "source": [
    "## Table of parameters\n",
    "|Parameter|Meaning|Unit|Origin|Constant or Variable|\n",
    "|------|------|------|------|------|\n",
    "|$\\beta$     |transmission rate per infective    | individiaul/(individual x unit time)$^{-1}$   |Keeling and Rohani 2007|Function|\n",
    "|$S$     |number of susceptibles    |  individuals |Keeling and Rohani 2007|Variable- parameterisation not needed|\n",
    "|$E$     |number of exposed |  individuals  |Keeling and Rohani 2007|Variable- parameterisation not needed|\n",
    "|$I$     |number of infected     |  individuals |Keeling and Rohani 2007|Variable- parameterisation not needed|\n",
    "|$R$     |number of recovered    | individuals |Keeling and Rohani 2007|Variable- parameterisation not needed|\n",
    "|$N$     |number of individauls   | individuals |Keeling and Rohani 2007|Variable- parameterisation not needed|\n",
    "|$H$  |dimensionless hill function- containment |-|Neher 2020|Function -depends on I, m and k|\n",
    "|b | the rate of mortality/ decay of the virus| (1/time)|-q| Function- depends on max_survival,min_survival, Climate_max_survival,Climate_min_survival,range_q and Climate at point of interest|\n",
    "|$c_r$ |contact rate per unit time  |(individuals/(individual x time)|valle 2013| Function  depending on max_contact_rate, Climate_max_contact_rate, quantile_cr and climate at point of interest|\n",
    "|$\\gamma$     |recovery rate - probably of recovery for an individual per unit time (reciprocal of infectious period)   |unit time$^{-1}$  |Keeling and Rohani 2007|Constant|\n",
    "|$\\mu$    |natural per capita death rate -not caused by disease|unit time$^{-1}$    |Keeling and Rohani 2007|Constant|\n",
    "|$\\alpha$    |disease induced mortality rate -caused by disease|unit time$^{-1}$    ||Constant|\n",
    "|$\\nu$    |natural per capita birth rate |unit time$^{-1}$  |Keeling and Rohani 2007|Constant|\n",
    "|$\\sigma$     |rate of movement from E to I (reciprocal of latent period)|unit time$^{-1}$|  Keeling and Rohani 2007|Constant|\n",
    "|$d$  |average contact duration|unit time|Valle 2013|Constant|\n",
    "|h | the expected duration of contact needed for tramsmission| (time)| (inverse of $\\zeta$)|Constant|\n",
    "|$\\epsilon$|proportion of contacts that can cause transmission|proportion|valle 2013|Constant|\n",
    "|$\\zeta$| the number of transmission events per unit time| (1/time)|valle 2013| Constant   |\n",
    "|$N_0$     |initial number of individauls   | individuals |Keeling and Rohani 2007|Constant|\n",
    "|$m$ |containment parameter|-|Neher 2020|Constant|\n",
    "|$k$   |inflection point of Hill function||Neher 2020|Constant|\n",
    "|max_contact_rate|Maximum contact rate|1/unit time|-|Constant|\n",
    "|Climate_max_contact_rate|Climate at maximum contact rate|degrees C if temperature|-|Variable? set as constant and repeat at different values|\n",
    "|quantile_cr|Climate interval at which 95\\%  of the contact rates will fall between |-|-|Constant (lower and upper). May vary between areas, hopefully not significantly|\n",
    "|max_survival|Maximum survival rate|1/unit time|-|Constant|\n",
    "|min_survival|Minimum survival rate|1/unit time|-|Constant|\n",
    "|Climate_max_survival|Climate at maximum survival rate|degrees C if temperature|-|Variable? set as constant and repeat at different values|\n",
    "|Climate_min_survival|Climate at minimum survival rate|degrees C if temperature|-|Constant- from using range_q and assuming symmetry|\n",
    "|range_q|Climate interval that q is defined at (based on experiments) |-|-|Constant (lower and upper)|\n",
    "|Climate|Climate value| degrees C for temperature|-|Variable|\n",
    "|range_C|Climate interval |-|-|Constant (lower and upper)|\n",
    "\n",
    "\n",
    "\n",
    "|$q$ |viral rate of survival|$time^{-1}$||Variable|\n",
    "\n",
    "\n",
    "units calculated from:  \n",
    "units of de/dt,ds/st,di/dt, dr/dt$N\\times$unit time$^{-1}$ \n"
   ]
  },
  {
   "cell_type": "markdown",
   "metadata": {},
   "source": [
    "## Table of parameters-Influenza\n",
    "|Parameter|Meaning|Unit|Origin|Constant or Variable|Value|Source|\n",
    "|------|------|------|------|------|------|------|\n",
    "|$\\beta$     |transmission rate per infective    | individiaul/(individual x day)$^{-1}$   |Keeling and Rohani 2007|Function|-|-|\n",
    "|$S$     |number of susceptibles    |  individuals |Keeling and Rohani 2007|Variable|parameterisation not needed|-|\n",
    "|$E$     |number of exposed |  individuals  |Keeling and Rohani 2007|Variable| parameterisation not needed|-|\n",
    "|$I$     |number of infected     |  individuals |Keeling and Rohani 2007|Variable| parameterisation not needed|-|\n",
    "|$R$     |number of recovered    | individuals |Keeling and Rohani 2007|Variable |parameterisation not needed|-|\n",
    "|$N$     |number of individauls   | individuals |Keeling and Rohani 2007|Variable|parameterisation not needed|-|\n",
    "|$H$  |dimensionless hill function- containment |-|Neher 2020|Function |depends on I, m and k|-|\n",
    "|Climate|Climate value| degrees C for temperature|-|Variable|-|-|\n",
    "|range_C|Climate interval |-|-|Constant (lower and upper)|depends on country|-|\n",
    "|$c_r$ |contact rate per unit time  |(individuals/(individual x time)|valle 2013| Function | depends on max_contact_rate, Climate_max_contact_rate, quantile_cr and climate at point of interest|-|\n",
    "|$\\gamma$     |recovery rate - probably of recovery for an individual per unit time (reciprocal of infectious period)   |day$^{-1}$  |Keeling and Rohani 2007|Constant|1/3.8|cauchemez 2004|\n",
    "|$\\mu$    |natural per capita death rate -not caused by disease|day$^{-1}$    |Keeling and Rohani 2007|Constant|2.05 e-5 |https://population.un.org/wpp/ |\n",
    "|$\\alpha$    |disease induced mortality rate -caused by disease|day$^{-1}$    ||Constant|-|-|\n",
    "|$\\nu$    |natural per capita birth rate |day$^{-1}$  |Keeling and Rohani 2007|Constant|5.07 e-5|https://population.un.org/wpp/ |\n",
    "|$\\sigma$     |rate of movement from E to I (reciprocal of latent period)|day$^{-1}$|  Keeling and Rohani 2007|Constant|0.5|https://www.who.int/news-room/fact-sheets/detail/influenza-(seasonal) |\n",
    "|$d$  |average contact duration|days|Valle 2013|Constant|4/24|POLYMOD|\n",
    "|h | the expected duration of contact needed for tramsmission| (day)| (inverse of $\\zeta$)|Constant|?|-|\n",
    "|$\\epsilon$|proportion of contacts that can cause transmission|proportion|valle 2013|Constant|?|-|\n",
    "|$\\zeta$| the number of transmission events per day| (1/day)|valle 2013| Constant   |?|-|\n",
    "|$N_0$     |initial number of individauls   | individuals |Keeling and Rohani 2007|Constant|depends on country|-|\n",
    "|$m$ |containment parameter|-|Neher 2020|Constant|?|-|\n",
    "|$k$   |inflection point of Hill function||Neher 2020|Constant|?|-|\n",
    "|max_contact_rate|Maximum contact rate|1/day|-|Constant|26.97|Hoang et al 2019|\n",
    "|Climate_max_contact_rate|Climate at maximum contact rate|degrees C if temperature|-|Variable? |set as constant and repeat at different values (in climate range|-|\n",
    "|quantile_cr|Climate interval at which 95\\%  of the contact rates will fall between |-|-|Constant (lower and upper)|set to min and max range_C?|-|\n",
    "|b | the rate of mortality/ decay of the virus| (1/day)|-q| Function- |coefficients of linear model|data from harper 1961 |\n",
    "\n",
    "\n",
    "|max_survival|Maximum survival rate|1/unit time|-|Constant|-|-|\n",
    "|min_survival|Minimum survival rate|1/unit time|-|Constant|-|-|\n",
    "|Climate_max_survival|Climate at maximum survival rate|degrees C if temperature|-|Variable? set as constant and repeat at different values|-|-|\n",
    "|Climate_min_survival|Climate at minimum survival rate|degrees C if temperature|-|Constant- from using range_q and assuming symmetry|-|-|\n",
    "|range_q|Climate interval that q is defined at (based on experiments) |-|-|Constant (lower and upper)|-|-|\n",
    "\n",
    "\n",
    "\n",
    "\n",
    "|$q$ |viral rate of survival|$time^{-1}$||Variable|\n",
    "\n",
    "\n",
    "units calculated from:  \n",
    "units of de/dt,ds/st,di/dt, dr/dt$N\\times$unit time$^{-1}$ \n"
   ]
  },
  {
   "cell_type": "markdown",
   "metadata": {},
   "source": [
    "## Parameter values\n",
    "time is a day\n"
   ]
  },
  {
   "cell_type": "markdown",
   "metadata": {},
   "source": [
    "### $\\gamma$  \n",
    "#### Meaning\n",
    "recovery rate - probably of recovery for an individual per unit time (reciprocal of infectious period)\n",
    "#### Influenza\n",
    "cauchemez 2004 used a bayesian approach with longitudional household data (334 households) and estimated the mean infection duration at 3.8 days. \n",
    "using this the recovery rate would be 1/3.8 days\n",
    "#### Covid\n",
    "Meadian recovery time is 21 days(Quifang Bi, lancet infectious diseases)\n",
    "median duration for carrying SARS-CoV-2 is 20 days but can be a lot longer - Journal of Infection 81 (2020) e78–e79\n",
    "see also To 2020, chen and li 2020\n",
    "milder cases appear to have detectable virus load for less time ~10 days-lui et al 2020\n",
    "estimate for gamma is 1/20 (larger sample size)\n",
    "\n",
    "### $\\sigma$\n",
    "#### Meaning\n",
    "rate of movement from E to I (reciprocal of latent period).\n",
    "Assume that incubation period is the same as latent period, although not strictly true\n",
    "\n",
    "#### Influenza\n",
    "average incubation period is 2 days, so rate of movement is 1/2=0.5\n",
    "https://www.who.int/news-room/fact-sheets/detail/influenza-(seasonal)\n",
    "#### Covid\n",
    "very varied but median of average 5 days (lauer 2020). so estimate rate of movement of 1/5\n",
    "\n",
    "\n",
    "### $\\alpha$\n",
    "#### Meaning\n",
    "disease induced mortality rate. incorrect, need to convert below to disease induced mortality rate\n",
    "#### Influenza\n",
    "very low, approximately 0.1% from usa data https://www.cdc.gov/flu/about/burden/past-seasons.html\n",
    "#### Covid\n",
    "https://www.who.int/dg/speeches/detail/who-director-general-s-opening-remarks-at-the-media-briefing-on-covid-19---3-march-2020 - 3.4% butpossiby an overestimate\n",
    "from new york deaths - estimates of number of cases  and number of deaths from data -1.4 %  (look into more (https://www.worldometers.info/coronavirus/coronavirus-death-rate/#study\n",
    "From Diamon Princess cruise- 0.99%. Earlier data like this may be most accurate because better surviellance. \n",
    "Similarly, Onder 2020 observes that the republic of korea has widespread testing and had a lower death rate (1%) than china (2.3%) italy (7.2%)  https://www.who.int/docs/default-source/coronaviruse/situation-reports/20200317-sitrep-57-covid-19.pdf?sfvrsn=a26922f2_2 ; \n",
    "### $d$ \n",
    "#### Meaning\n",
    "average contact duration.\n",
    "This is likely to vary between areas. However could use the polymod study (categorical) to find the most frequent time interval. This is the 4h+ category, so could estimate. 4/24 days \n",
    "#### Influenza\n",
    "#### Covid\n",
    "\n",
    "\n",
    "\n",
    "### h\n",
    "contact duration needed to cause infection- may not be able to parameterise\n",
    "#### Meaning\n",
    "#### Influenza\n",
    "#### Covid\n",
    "\n",
    "\n",
    "\n",
    "### $\\epsilon$\n",
    "maximum infectivity of a contact. not able to parameterise\n",
    "#### Meaning\n",
    "#### Influenza\n",
    "#### Covid\n",
    "\n",
    "\n",
    "\n",
    "### $N_0$\n",
    "#### Meaning\n",
    "Inital population size. Could use population data for individual countries. OR set to 1 . read textbook for more about mass action vs frequency dependent\n",
    "#### Value\n",
    "\n",
    "\n",
    "\n",
    "### $m$ \n",
    "#### Meaning\n",
    "Probably only relevant to covid or a major epidemic\n",
    "#### Value\n",
    "\n",
    "\n",
    "\n",
    "### $k$ \n",
    "#### Meaning\n",
    "Probably only relevant to covid or a major epidemic\n",
    "#### Value\n",
    "\n",
    "\n",
    "\n",
    "\n",
    "7.756152"
   ]
  },
  {
   "cell_type": "markdown",
   "metadata": {},
   "source": [
    "### $\\mu$  death rate\n",
    "#### Meaning\n",
    "Natural per capita death rate\n",
    "#### Values\n",
    "between about 1 per 1000 and 15 per 1000.0.001-0.015 so 2.74e-6 to 4.11e-5 per day. Vary a lot temporally and spatially. \n",
    "Take this into account if fitting to influenza data. May have to assume constant. world death rate is 7.5/1000 per year so 2.05e-5 (2015-2020 period)\n",
    "https://population.un.org/wpp/ ; https://www.macrotrends.net/countries/ARE/uae/death-rate\n",
    "Assuming $\\mu=\\nu$ may help to simplify\n",
    "### $\\nu$ birth rate\n",
    "#### Meaning\n",
    "Natural per capita birth rate \n",
    "#### Values\n",
    "between about 7 per 1000 and 20 per 1000.- est 0.007-0.02 per year. So 1.92e-5-5.48e-5 per day  Vary a lot temporally and spatially.Take this into account if fitting to influenza data. May have to assume constant and equal to mu.https://population.un.org/wpp/ ; https://www.macrotrends.net/countries/ARE/uae/death-rate\n",
    "world birth rate is 18.5/1000 per year so world birth rate is 5.07e-5(2015-2020 period)"
   ]
  },
  {
   "cell_type": "markdown",
   "metadata": {},
   "source": [
    "### max_contact_rate\n",
    "#### Meaning\n",
    "The maximum *mean* contact rate (per day). i.e when the temperature is most conducive to social contact, this will be the mean contact rate. \n",
    "#### Value\n",
    "From polymod study  and leung 2017 , very high variance, and left skewed.\n",
    "Options\n",
    "- estimate from polumod-using polymod study, removed top 5% of daily contact numbers, leading to  a maximum contact rate of 35.\n",
    "- Use mean from polymod as the maximum- this is 13. \n",
    "- there is considerable variance between studies and locations. Could take mean from multiple studies and use the maximum of these. This seems most reasonable. \n",
    "    - just using polymod, country with maximum is italy with 19.5 contacts. might just use polymod because more consistent methods. or look at what leung said was average\n",
    "     -alternatively - A Systematic Review of Social Contact Surveys to Inform Transmission Models of Close-contact Infections- Hoang et al 2019 - includes polymod and other surveys and finds that the maximum (prospective) number of contacts is 26.97 in the UK in a later study. (or keep just using polymod because countries are more comparable to one another)\n",
    "\n",
    "\n",
    "\n",
    "### Climate_max_contact_rate\n",
    "#### Meaning\n",
    "The climate value at the max_contact_rate. This is varied at different level of mismatch\n",
    "#### Value\n",
    "Will just be between lower and upper range_C\n",
    "\n",
    "\n",
    "\n",
    "### quantile_cr\n",
    "#### Meaning\n",
    "climate that 95% fall into  . same as range_C\n",
    "\n",
    "#### Value\n",
    "- I'm thinking it would make the most sense for the quantiles to be the min and max climate for that particular country. - otherwise understanding mismatch is skewed by different mean contact rates.\n",
    "\n",
    "\n",
    "\n",
    "### range_C\n",
    "#### Meaning\n",
    "Range of mean climates (eg mean temperatrue) over a year. min-max. This is likely to vary between countries.\n",
    "#### Value\n",
    "depends if temp or combined??\n",
    "with current survival data , ought to be combined. so take min and max T and H and find min and max C using lm coefficients\n",
    "\n",
    "### Climate\n",
    "climate variable "
   ]
  },
  {
   "cell_type": "code",
   "execution_count": 2,
   "metadata": {},
   "outputs": [
    {
     "name": "stderr",
     "output_type": "stream",
     "text": [
      "\n",
      "Attaching package: ‘socialmixr’\n",
      "\n",
      "The following object is masked from ‘package:utils’:\n",
      "\n",
      "    cite\n",
      "\n"
     ]
    },
    {
     "name": "stdout",
     "output_type": "stream",
     "text": [
      "[1] \"Italy_participants\"\n",
      "[1] 849\n",
      "[1] 19.54438\n",
      "[1] \"Germany_participants\"\n",
      "[1] 1341\n",
      "[1] 7.756152\n",
      "[1] \"Luxembourg_participants\"\n",
      "[1] 1051\n",
      "[1] 17.29905\n",
      "[1] \"Netherlands_participants\"\n",
      "[1] 269\n",
      "[1] 13.68657\n",
      "[1] \"Poland_participants\"\n",
      "[1] 1012\n",
      "[1] 16.12747\n",
      "[1] \"United Kingdom_participants\"\n",
      "[1] 1012\n",
      "[1] 11.54672\n",
      "[1] \"Finland_participants\"\n",
      "[1] 1006\n",
      "[1] 11.13096\n",
      "[1] \"Belgium_participants\"\n",
      "[1] 750\n",
      "[1] 11.80295\n"
     ]
    },
    {
     "data": {
      "text/html": [
       "19.5443786982249"
      ],
      "text/latex": [
       "19.5443786982249"
      ],
      "text/markdown": [
       "19.5443786982249"
      ],
      "text/plain": [
       "[1] 19.54438"
      ]
     },
     "metadata": {},
     "output_type": "display_data"
    }
   ],
   "source": [
    "library(socialmixr)\n",
    "data(\"polymod\")\n",
    "countries<-unique(polymod$participants$country)\n",
    "ids<-list()\n",
    "means<-c()\n",
    "for (i in 1:length(countries)){\n",
    "    name<-paste0(countries[i],\"_participants\")\n",
    "    ids[[name]]<-polymod$participants$part_id[which(polymod$participants$country==countries[i])]\n",
    "    data<-polymod$contacts[which(is.element(polymod$contacts$part_id , ids[[name]]))]\n",
    "    contact_table <- table(data$part_id, data$duration_multi)\n",
    "    print(name)\n",
    "    print(length(ids[[name]]))\n",
    "    #seems to be shifted \n",
    "    if (name==\"Belgium_participants\"){\n",
    "        del <- as.numeric(names(which(contact_table[, 1] > 0)))\n",
    "        data <- data[which(data$part_id != del), ]\n",
    "        contact_table <- table(data$part_id, data$duration_multi)\n",
    "    }\n",
    "    # \n",
    "    con <- as.matrix(contact_table)\n",
    "\n",
    "    timebyrow <- rowSums(con)\n",
    "    print(mean(timebyrow))\n",
    "    means<-c(means,mean(timebyrow))\n",
    "          \n",
    "}\n",
    "max(means)"
   ]
  },
  {
   "cell_type": "code",
   "execution_count": 3,
   "metadata": {},
   "outputs": [
    {
     "data": {
      "text/html": [
       "1"
      ],
      "text/latex": [
       "1"
      ],
      "text/markdown": [
       "1"
      ],
      "text/plain": [
       "[1] 1"
      ]
     },
     "metadata": {},
     "output_type": "display_data"
    },
    {
     "data": {
      "text/html": [
       "44"
      ],
      "text/latex": [
       "44"
      ],
      "text/markdown": [
       "44"
      ],
      "text/plain": [
       "[1] 44"
      ]
     },
     "metadata": {},
     "output_type": "display_data"
    }
   ],
   "source": [
    "#Estimating mean contact duration\n",
    "\n",
    "#Italy_participants\n",
    "\n",
    "\n",
    "data(\"polymod\")\n",
    "data <- polymod$contacts\n",
    "contact_table <- table(data$part_id, data$duration_multi)\n",
    "#seems to be shifted \n",
    "del <- as.numeric(names(which(contact_table[, 1] > 0)))\n",
    "data <- data[which(data$part_id != del), ]\n",
    "contact_table <- table(data$part_id, data$duration_multi)\n",
    "con <- as.matrix(contact_table)\n",
    "#midpoints <- c(2.5, 10, 15 + (60 - 45) / 2, 150, 4 * 60)\n",
    "#time <- midpoints * con / 60\n",
    "#timebyrow <- apply(time, 1, sum)\n",
    "#meancont<-mean(timebyrow)\n",
    "#maxcont<-meancont+2*sqrt(var(timebyrow))\n",
    "\n",
    "#max(timebyrow)\n",
    "#min(timebyrow)\n",
    "timebyrow <- rowSums(con)\n",
    "ordered_frequencies<-sort(timebyrow)\n",
    "N_participants<-length(ordered_frequencies)\n",
    "#N_participants\n",
    "remove<-floor(N_participants*0.025)\n",
    "mid_95<-ordered_frequencies[-c(1:remove,(N_participants-(remove-1)):N_participants)]\n",
    "min(mid_95)\n",
    "max(mid_95)\n",
    "#max(timebyrow)\n",
    "remove<-floor(N_participants*0.05)\n",
    "top_95<-ordered_frequencies[-c((N_participants-(remove-1)):N_participants)]\n",
    "#max(top_95)\n",
    "#bottom_remove<-ordered_frequencies[-c(1:remove)]\n",
    "meancontactno<-mean(timebyrow)\n",
    "#meancontactno\n",
    "\n",
    "varcontactno<-var(timebyrow)\n",
    "#varcontactno\n",
    "numberbycol<- colSums(con)\n",
    "#numberbycol\n",
    "#most frequently- 4h+ so est 4h?\n",
    "\n"
   ]
  },
  {
   "cell_type": "markdown",
   "metadata": {},
   "source": [
    "## S - survivability of virus\n",
    "In these experiments, virus titre over time recorded.  $\\frac{dV}{dt}=qV$, $V=Ae^{qt}$, initially $V(0)=A=V_0$, so $V=V_0e^{qt}$. q is the survival rate of the virus.  \n",
    "Equation for exponential virus decay:  \n",
    "$V=V_0 \\times e^{qt} $   \n",
    "where V_0 is the initial virus density and q is the rate of decay.   \n",
    "q can be calculated from substituting V_0 and the coordinates at another time into the equation rearranged for q.    \n",
    "$V=V_0 \\times e^{qt} $  , $\\frac{V}{V_0}= e^{qt} $ , $\\ln{\\frac{V}{V_0}}= qt$, $ q = \\frac{\\ln{\\frac{V}{V_0}}}{t} $  \n",
    "\n",
    "Assuming that q is constant over time.\n",
    "\n",
    "Then a quadratic equation made from fitting a quadratic equation to  the decay rate at different temperatures\n",
    "below equations are for parameterising quadratic equation"
   ]
  },
  {
   "cell_type": "code",
   "execution_count": 4,
   "metadata": {},
   "outputs": [],
   "source": [
    "find_q<-function(V_0,point_coordinates){\n",
    "    #x<-seq(0,10,length.out = 10000)\n",
    "    q<-log(point_coordinates[2]/V_0)/point_coordinates[1]\n",
    "    #V<-V_0 * exp(q*x)\n",
    "    return(q)    }"
   ]
  },
  {
   "cell_type": "code",
   "execution_count": 20,
   "metadata": {},
   "outputs": [
    {
     "data": {
      "text/html": [
       "<strong>T_vector:</strong> -1.02106075092201"
      ],
      "text/latex": [
       "\\textbf{T\\textbackslash{}\\_vector:} -1.02106075092201"
      ],
      "text/markdown": [
       "**T_vector:** -1.02106075092201"
      ],
      "text/plain": [
       " T_vector \n",
       "-1.021061 "
      ]
     },
     "metadata": {},
     "output_type": "display_data"
    },
    {
     "data": {
      "image/png": "[encoded data removed]",
      "text/plain": [
       "plot without title"
      ]
     },
     "metadata": {},
     "output_type": "display_data"
    }
   ],
   "source": [
    "#only source of data on human influenza (not avian) containts three different temperatures at 3-5 humidities. Seperating humidity seems unhelpful \n",
    "# if want to use this data, have both temperature and humidity functions with time.\n",
    "#this data is percentage viable. \n",
    "\n",
    "T_vector<-c(7.5,7.5,7.5,22.5,22.5,22.5,22.5,22.5,32,32,32)\n",
    "H_vector<-c(24,51,82,21,35,50.5,64.5,81,20,49.5,81)\n",
    "q_vector<-c(find_q(88,c(23/24,61)),\n",
    "find_q(66,c(23/24,19)),\n",
    "find_q(126,c(23/24,3)),\n",
    "find_q(75,c(23/24,22)),\n",
    "find_q(86,c(23/24,14)),\n",
    "find_q(84,c(6/24,4.2)),\n",
    "find_q(77,c(6/24,3.2)),\n",
    "find_q(67,c(6/24,5)),\n",
    "find_q(87,c(23/24,1.3)),\n",
    "find_q(98,c(6/24,0.7)),\n",
    "find_q(91,c(1/24,6.6)))\n",
    "#in days\n",
    "temp<-lm(q_vector~T_vector)\n",
    "#summary(temp)\n",
    "plot(T_vector,q_vector, xlab=\"Temperature\",ylab=\"Survival Rate\")\n",
    "lines(T_vector,fitted(temp),col=\"blue\")\n",
    "temp$coefficients[2]\n"
   ]
  },
  {
   "cell_type": "code",
   "execution_count": 24,
   "metadata": {},
   "outputs": [
    {
     "data": {
      "text/html": [
       "<strong>H_vector:</strong> -0.390299464476078"
      ],
      "text/latex": [
       "\\textbf{H\\textbackslash{}\\_vector:} -0.390299464476078"
      ],
      "text/markdown": [
       "**H_vector:** -0.390299464476078"
      ],
      "text/plain": [
       "  H_vector \n",
       "-0.3902995 "
      ]
     },
     "metadata": {},
     "output_type": "display_data"
    },
    {
     "data": {
      "image/png": "[encoded data removed]",
      "text/plain": [
       "plot without title"
      ]
     },
     "metadata": {},
     "output_type": "display_data"
    }
   ],
   "source": [
    "hum<-lm(q_vector~H_vector)\n",
    "#summary(hum)\n",
    "plot(H_vector,q_vector, xlab=\"Humidity\",ylab=\"Survival Rate\")\n",
    "lines(H_vector,fitted(hum),col=\"blue\")\n",
    "hum$coefficients[2]"
   ]
  },
  {
   "cell_type": "code",
   "execution_count": 11,
   "metadata": {},
   "outputs": [
    {
     "data": {
      "text/plain": [
       "\n",
       "Call:\n",
       "glm(formula = q_vector ~ T_vector + H_vector)\n",
       "\n",
       "Deviance Residuals: \n",
       "    Min       1Q   Median       3Q      Max  \n",
       "-27.180   -1.772    3.235    6.330   15.350  \n",
       "\n",
       "Coefficients:\n",
       "            Estimate Std. Error t value Pr(>|t|)  \n",
       "(Intercept)  30.9843    13.2651   2.336   0.0477 *\n",
       "T_vector     -1.0590     0.4264  -2.483   0.0379 *\n",
       "H_vector     -0.4060     0.1700  -2.388   0.0440 *\n",
       "---\n",
       "Signif. codes:  0 ‘***’ 0.001 ‘**’ 0.01 ‘*’ 0.05 ‘.’ 0.1 ‘ ’ 1\n",
       "\n",
       "(Dispersion parameter for gaussian family taken to be 167.2318)\n",
       "\n",
       "    Null deviance: 3251.5  on 10  degrees of freedom\n",
       "Residual deviance: 1337.9  on  8  degrees of freedom\n",
       "AIC: 92.027\n",
       "\n",
       "Number of Fisher Scoring iterations: 2\n"
      ]
     },
     "metadata": {},
     "output_type": "display_data"
    },
    {
     "data": {
      "text/plain": [
       "\n",
       "Call:\n",
       "glm(formula = q_vector ~ T_vector * H_vector)\n",
       "\n",
       "Deviance Residuals: \n",
       "     Min        1Q    Median        3Q       Max  \n",
       "-16.0794   -3.9039   -0.6582    3.7285   16.9297  \n",
       "\n",
       "Coefficients:\n",
       "                  Estimate Std. Error t value Pr(>|t|)  \n",
       "(Intercept)       -6.28710   18.39627  -0.342   0.7426  \n",
       "T_vector           0.68807    0.78602   0.875   0.4104  \n",
       "H_vector           0.31299    0.32170   0.973   0.3630  \n",
       "T_vector:H_vector -0.03394    0.01382  -2.456   0.0437 *\n",
       "---\n",
       "Signif. codes:  0 ‘***’ 0.001 ‘**’ 0.01 ‘*’ 0.05 ‘.’ 0.1 ‘ ’ 1\n",
       "\n",
       "(Dispersion parameter for gaussian family taken to be 102.677)\n",
       "\n",
       "    Null deviance: 3251.50  on 10  degrees of freedom\n",
       "Residual deviance:  718.74  on  7  degrees of freedom\n",
       "AIC: 87.192\n",
       "\n",
       "Number of Fisher Scoring iterations: 2\n"
      ]
     },
     "metadata": {},
     "output_type": "display_data"
    },
    {
     "data": {
      "image/png": "[encoded data removed]",
      "text/plain": [
       "plot without title"
      ]
     },
     "metadata": {},
     "output_type": "display_data"
    }
   ],
   "source": [
    "par(mfrow=c(2,2))\n",
    "H<-H_vector\n",
    "T<-T_vector\n",
    "model<-glm(q_vector~T_vector+H_vector)\n",
    "summary(model)\n",
    "\n",
    "plot(T_vector,unname( model$coefficients[1] + model$coefficients[2] * T +model$coefficients[3] *H  ))\n",
    "plot(H_vector,unname( model$coefficients[1] + model$coefficients[2] * T +model$coefficients[3] *H  ))\n",
    "model<-glm(q_vector~T_vector*H_vector)\n",
    "\n",
    "\n",
    "\n",
    "summary(model)\n",
    "\n",
    "plot(T_vector,unname( model$coefficients[1] + model$coefficients[2] * T +model$coefficients[3] *H +\n",
    "model$coefficients[4] * H * T ))\n",
    "plot(H_vector,unname( model$coefficients[1] + model$coefficients[2] * T +model$coefficients[3] *H +\n",
    "model$coefficients[4] * H * T ))\n",
    "\n",
    "#the interaction term is significant\n"
   ]
  },
  {
   "cell_type": "code",
   "execution_count": 1,
   "metadata": {},
   "outputs": [
    {
     "ename": "ERROR",
     "evalue": "Error in eval(predvars, data, env): object 'q_vector' not found\n",
     "output_type": "error",
     "traceback": [
      "Error in eval(predvars, data, env): object 'q_vector' not found\nTraceback:\n",
      "1. lm(-q_vector ~ (poly(H_vector, 2, raw = TRUE) * poly(T_vector, \n .     2, raw = TRUE)))",
      "2. eval(mf, parent.frame())",
      "3. eval(mf, parent.frame())",
      "4. stats::model.frame(formula = -q_vector ~ (poly(H_vector, 2, raw = TRUE) * \n .     poly(T_vector, 2, raw = TRUE)), drop.unused.levels = TRUE)",
      "5. model.frame.default(formula = -q_vector ~ (poly(H_vector, 2, \n .     raw = TRUE) * poly(T_vector, 2, raw = TRUE)), drop.unused.levels = TRUE)",
      "6. eval(predvars, data, env)",
      "7. eval(predvars, data, env)"
     ]
    }
   ],
   "source": [
    "#proposed idea- fit a linear model to existing data. not looking to interpret this linear model, just want it to be as close to true values as possible\n",
    "\n",
    "a<-lm(-q_vector~(poly(H_vector,2,raw=TRUE)*poly(T_vector,2,raw=TRUE)))\n",
    "#summary(a)\n",
    "require(ggplot2)\n",
    "matrix_plot<-as.data.frame(matrix(c(T_vector,H_vector,-q_vector),ncol=3,byrow=F))\n",
    "\n",
    "colnames(matrix_plot)<-c(\"T\",\"H\",\"b\")\n",
    "matrix_plot$T<-as.factor(matrix_plot$T)\n",
    "\n",
    "ggplot(aes(H,b,col=T), data=matrix_plot)+geom_point()+geom_line()+xlab(\"Humidity\")+ylab(\"Rate of decay\")\n",
    "\n",
    "matrix_plot<-as.data.frame(matrix(c(T_vector,H_vector,-q_vector),ncol=3,byrow=F))\n",
    "colnames(matrix_plot)<-c(\"T\",\"H\",\"b\")\n",
    "matrix_plot$H <- cut(matrix_plot$H,\n",
    "                     breaks=c(0,30,47.5,62,80,100),\n",
    "                     labels=c(\"20-25\",\"32.5-37.5\",\"47.5-52.5\",\"62-67\",\"80-85\"))\n",
    "ggplot(aes(T,b,col=H), data=matrix_plot)+geom_point()+geom_line()+xlab(\"Temperature\")+ylab(\"Rate of decay\")\n",
    "\n",
    "T_predict<-sort(rep(seq(7.5,32,length.out = 200),200))\n",
    "\n",
    "H_predict<-rep(seq(20,82,length.out = 200),200)\n",
    "\n",
    "prediction<-as.data.frame(matrix(c(T_predict,H_predict),ncol=2,byrow = F))\n",
    "colnames(prediction)<-c(\"T_vector\",\"H_vector\")\n",
    "q_predictions<-predict.lm(a,newdata = prediction )\n",
    "\n",
    "#for (i in (1:length(q_predictions))){\n",
    "#    if (q_predictions[i] < 0){\n",
    "#        q_predictions[i]=1e-4\n",
    " #   }\n",
    "#}\n",
    "prediction_result<-as.data.frame(matrix(c(T_predict,H_predict,q_predictions),ncol=3,byrow=F))\n",
    "\n",
    "prediction_result<-as.data.frame(matrix(c(T_predict,H_predict,abs(q_predictions)),ncol=3,byrow=F))\n",
    "colnames(prediction_result)<-c(\"T\",\"H\",\"b\")\n",
    "\n",
    "#ggplot(aes(T,H,col=b), data=prediction_result)+geom_point(shape=15)+ggtitle(\"degree=2\")\n",
    "\n",
    "\n",
    "b_function<-function(T,H){\n",
    "    return(abs(unname(a$coefficients[1] + a$coefficients[2] * H + a$coefficients[3] * H^2 + a$coefficients[4] * T +a$coefficients[5] * T^2 +\n",
    "a$coefficients[6] * H * T +\n",
    "a$coefficients[7] * H^2 * T + a$coefficients[8] * H * T^2 + a$coefficients[9] * H^2 * T^2)))\n",
    "    }\n",
    "\n",
    "\n",
    "T<-T_vector\n",
    "H<-H_vector\n",
    "b_function(T,H)\n",
    "-q_vector\n",
    "b_function(7.5,20)\n",
    "b_function(32,81)\n",
    "# only well defined between min(T)and min(H)\n",
    "#this is likely to be a problem for very cold countries. \n",
    "# could add arbritary low value to plot? or could use abs?? or somehow set 0.38 as the minimum\n",
    "\n",
    "plot(T_vector,H_vector)"
   ]
  },
  {
   "cell_type": "markdown",
   "metadata": {},
   "source": [
    "shouldn't need below if follow above formula\n",
    "### max_survival\n",
    "#### Meaning\n",
    "based on experiments\n",
    "#### Influenza\n",
    "#### Covid\n",
    "\n",
    "\n",
    "\n",
    "### min_survival\n",
    "#### Meaning\n",
    "based on experiments\n",
    "#### Influenza\n",
    "#### Covid\n",
    "\n",
    "\n",
    "\n",
    "### Climate_max_survival\n",
    "#### Meaning\n",
    "Realistically this should be constant because it is based on experiments. Climate_max_contact_rate varying\n",
    "#### Influenza\n",
    "#### Covid\n",
    "\n",
    "\n",
    "\n",
    "### Climate_min_survival\n",
    "#### Meaning\n",
    "based on experiments\n",
    "#### Influenza\n",
    "#### Covid\n",
    "\n",
    "\n",
    "\n",
    "### range_q\n",
    "#### Meaning\n",
    "Climate interval that q is defined at (based on experiments) \n",
    "#### Influenza\n",
    "#### Covid\n"
   ]
  },
  {
   "cell_type": "code",
   "execution_count": null,
   "metadata": {},
   "outputs": [],
   "source": [
    "\n",
    "\n",
    "a<-lm(-q_vector~poly(H_vector,1,raw=TRUE)*poly(T_vector,1,raw=TRUE))\n",
    "summary(a)\n",
    "matrix_plot<-as.data.frame(matrix(c(T_vector,H_vector,-q_vector),ncol=3,byrow=F))\n",
    "colnames(matrix_plot)<-c(\"T\",\"H\",\"b\")\n",
    "#ggplot(aes(T,H,col=b), data=matrix_plot)+geom_point()\n",
    "T_predict<-sort(rep(seq(7.5,32,length.out = 200),200))\n",
    "\n",
    "H_predict<-rep(seq(20,82,length.out = 200),200)\n",
    "\n",
    "prediction<-as.data.frame(matrix(c(T_predict,H_predict),ncol=2,byrow = F))\n",
    "colnames(prediction)<-c(\"T_vector\",\"H_vector\")\n",
    "prediction_result<-as.data.frame(matrix(c(T_predict,H_predict,predict.lm(a,newdata = prediction )),ncol=3,byrow=F))\n",
    "colnames(prediction_result)<-c(\"T\",\"H\",\"b\")\n",
    "ggplot(aes(T,H,col=b), data=prediction_result)+geom_point(shape=15)+ggtitle(\"degree =1  \")\n",
    "#ggplot(aes(T,b), data=prediction_result)+geom_point(shape=15)\n",
    "a$coefficients[1] + a$coefficients[2] * H + a$coefficients[3] * T + a$coefficients[4] * T*H\n",
    "q_vector\n"
   ]
  },
  {
   "cell_type": "code",
   "execution_count": null,
   "metadata": {},
   "outputs": [],
   "source": [
    "\n",
    "\n",
    "a<-lm(-q_vector~ H_vector * T_vector )\n",
    "summary(a)\n",
    "matrix_plot<-as.data.frame(matrix(c(T_vector,H_vector,-q_vector),ncol=3,byrow=F))\n",
    "colnames(matrix_plot)<-c(\"T\",\"H\",\"b\")\n",
    "#ggplot(aes(T,H,col=b), data=matrix_plot)+geom_point()\n",
    "T_predict<-sort(rep(seq(7.5,32,length.out = 200),200))\n",
    "\n",
    "H_predict<-rep(seq(20,82,length.out = 20),20)\n",
    "\n",
    "prediction<-as.data.frame(matrix(c(T_predict,H_predict),ncol=2,byrow = F))\n",
    "\n",
    "colnames(prediction)<-c(\"T_vector\",\"H_vector\")\n",
    "\n",
    "ggplot(aes(T,H,col=b), data=prediction_result)+geom_point(shape=15)+ggtitle(\"lm\")\n",
    "#ggplot(aes(T,b), data=prediction_result)+geom_point(shape=15)\n",
    "a$coefficients[1] + a$coefficients[2] * H + a$coefficients[3] * T + a$coefficients[4] *T* H \n",
    "q_vector\n"
   ]
  },
  {
   "cell_type": "code",
   "execution_count": null,
   "metadata": {},
   "outputs": [],
   "source": [
    "\n",
    "a<-lm(-q_vector~polym(T_vector,H_vector,degree=2,raw = TRUE))\n",
    "summary(a)\n",
    "require(ggplot2)\n",
    "matrix_plot<-as.data.frame(matrix(c(T_vector,H_vector,-q_vector),ncol=3,byrow=F))\n",
    "colnames(matrix_plot)<-c(\"T\",\"H\",\"b\")\n",
    "#ggplot(aes(T,H,col=b), data=matrix_plot)+geom_point()\n",
    "T_predict<-sort(rep(seq(7.5,32,length.out = 200),200))\n",
    "\n",
    "H_predict<-rep(seq(20,82,length.out = 200),200)\n",
    "\n",
    "prediction<-as.data.frame(matrix(c(T_predict,H_predict),ncol=2,byrow = F))\n",
    "colnames(prediction)<-c(\"T_vector\",\"H_vector\")\n",
    "prediction_result<-as.data.frame(matrix(c(T_predict,H_predict,predict.lm(a,newdata = prediction )),ncol=3,byrow=F))\n",
    "colnames(prediction_result)<-c(\"T\",\"H\",\"b\")\n",
    "ggplot(aes(T,H,col=b), data=prediction_result)+geom_point(shape=15)+ggtitle(\"degree=2 polym\")\n",
    "#ggplot(aes(T,b), data=prediction_result)+geom_point(shape=15)\n",
    "\n",
    "a$coefficients[1] + a$coefficients[2] * T + a$coefficients[3] * T^2 + a$coefficients[4] * H +a$coefficients[5] * T * H  +\n",
    "a$coefficients[6] * H ^2 \n",
    "q_vector"
   ]
  },
  {
   "cell_type": "code",
   "execution_count": null,
   "metadata": {},
   "outputs": [],
   "source": [
    "\n",
    "\n",
    "\n",
    "par(mfrow=c(2,1))\n",
    "x<-c(4,22,37,56,70)\n",
    "#until q undetectable for all\n",
    "#y<-c(find_q(6.51,c(14*24*60-30,6.04)),find_q(6.51,c(7*3*60,3.48)),find_q(6.57,c(1*3*60-30,3.23)),find_q(6.65,c(10,3.84)),find_q(5.34,c(5,0)))\n",
    "y<-c(find_q(6.51,c((14*24*60-30)/(24*60),6.04)),find_q(6.51,c((7*3*60)/(24*60),3.48)),find_q(6.57,c((1*3*60-30)/(24*60),3.23)),find_q(6.65,c(10/(24*60),3.84)),find_q(5.34,c(5/(24*60),0)))\n",
    "\n",
    "t=seq(0,14,length.out = 100000)\n",
    "V_0=6\n",
    "\n",
    "#this is just an illustration\n",
    "plot(1, type=\"n\", xlab=\"Time (days^-1)\", ylab=\"V\", xlim=c(0, 14), ylim=c(0, 6))\n",
    "for(i in 1:(length(y)-1)){\n",
    "    V<-V_0 * exp(y[i]*t)\n",
    "    lines(t,V,type=\"s\",col=i)\n",
    "   legend(\"topright\", legend = c(paste0(\"Temp = \",x[1],\", q= \", y[1]),paste0(\"Temp = \",x[2],\", q= \", y[2]),paste0(\"Temp = \",x[3],\", q= \", y[3]),paste0(\"Temp = \",x[4],\", q= \", y[4])), col = c(1, 2,3,4),lty = 1,    cex = 0.8)\n",
    "\n",
    "}\n",
    "\n",
    "x<-c(4,22,37,56,70)\n",
    "#until q undetectable for all\n",
    "#y<-c(find_q(6.51,c(14*24*60-30,6.04)),find_q(6.51,c(7*3*60,3.48)),find_q(6.57,c(1*3*60-30,3.23)),find_q(6.65,c(10,3.84)),find_q(5.34,c(5,0)))\n",
    "\n",
    "y<-c(find_q(6.51,c((14*24*60-30)/(24*60),6.04)),find_q(6.51,c((7*3*60)/(24*60),3.48)),find_q(6.57,c((1*3*60-30)/(24*60),3.23)),find_q(6.65,c(10/(24*60),3.84)),find_q(5.34,c(5/(24*60),0)))\n",
    "\n",
    "plot(x,y,type=\"l\",xlab=\"Temp\",ylab=\"q (days^-1)\")"
   ]
  }
 ],
 "metadata": {
  "kernelspec": {
   "display_name": "R",
   "language": "R",
   "name": "ir"
  },
  "language_info": {
   "codemirror_mode": "r",
   "file_extension": ".r",
   "mimetype": "text/x-r-source",
   "name": "R",
   "pygments_lexer": "r",
   "version": "3.6.3"
  }
 },
 "nbformat": 4,
 "nbformat_minor": 2
}
