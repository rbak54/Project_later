{
 "cells": [
  {
   "cell_type": "code",
   "execution_count": 35,
   "metadata": {},
   "outputs": [
    {
     "name": "stdout",
     "output_type": "stream",
     "text": [
      "Overwriting ../Sandbox/sir.ode\n"
     ]
    }
   ],
   "source": [
    "%%writefile ../Sandbox/sir.ode\n",
    "par beta=2\n",
    "par alpha=0.01\n",
    "par gamma=0.01\n",
    "par sigma=5\n",
    "par mu=0.01\n",
    "par f=0.1\n",
    "s'=mu-beta*s*i-mu*s+f*r\n",
    "e'=beta*s*i-sigma*e-mu*e\n",
    "i'=sigma*e-alpha*i-gamma*i-mu*i\n",
    "r'=gamma*i-mu*r-f*r\n",
    "init s=0.99 e=0.01 i=0.0 r=0.0\n",
    "@ total=250\n",
    "@ output=sir_xpp.out\n",
    "done"
   ]
  },
  {
   "cell_type": "markdown",
   "metadata": {},
   "source": [
    "template from https://github.com/epirecipes/epicookbook/tree/56ce40238692724f2ce4d37fbb068195462fcda3"
   ]
  },
  {
   "cell_type": "code",
   "execution_count": 28,
   "metadata": {},
   "outputs": [
    {
     "name": "stdout",
     "output_type": "stream",
     "text": [
      "Parameters:\r\n",
      "|beta|=2.000000 \r\n",
      "Parameters:\r\n",
      "|alpha|=0.100000 \r\n",
      "Parameters:\r\n",
      "|gamma|=0.100000 \r\n",
      "Parameters:\r\n",
      "|sigma|=5.000000 \r\n",
      "Parameters:\r\n",
      "|mu|=1.000000 \r\n",
      "Parameters:\r\n",
      "|f|=0.100000 \r\n",
      "0:dS/dt=MU-BETA*S*I-MU*S+F*R  \r\n",
      "1:dE/dt=BETA*S*I-SIGMA*E-MU*E  \r\n",
      "2:dI/dt=SIGMA*E-ALPHA*I-GAMMA*I-MU*I  \r\n",
      "3:dR/dt=GAMMA*I-MU*R-F*R  \r\n",
      " Initial S(0)=0.99\r\n",
      " Initial E(0)=0.01\r\n",
      " Initial I(0)=0\r\n",
      " Initial R(0)=0\r\n",
      " All formulas are valid!!\r\n",
      " nvar=4 naux=0 nfix=0 nmark=0 NEQ=4 NODE=4 \r\n",
      "I' is a duplicate name\r\n",
      "Used 12 constants and 116 symbols \r\n",
      "XPPAUT 6.11 Copyright (C) 2002-2011  Bard Ermentrout \r\n",
      " Storage full -- increase maxstor \r\n",
      " Run complete ... \r\n"
     ]
    }
   ],
   "source": [
    "!xppaut ../Sandbox/sir.ode -silent"
   ]
  },
  {
   "cell_type": "code",
   "execution_count": 29,
   "metadata": {},
   "outputs": [],
   "source": [
    "import pandas as pd\n",
    "import matplotlib.pyplot as plt"
   ]
  },
  {
   "cell_type": "code",
   "execution_count": 30,
   "metadata": {},
   "outputs": [],
   "source": [
    "sir_out = pd.read_csv(\"sir_xpp.out\",sep=\" \",header=None,names=[\"t\",\"S\",\"E\",\"I\",\"R\"],index_col=False)"
   ]
  },
  {
   "cell_type": "code",
   "execution_count": 31,
   "metadata": {},
   "outputs": [
    {
     "data": {
      "image/png": "[encoded data removed]",
      "text/plain": [
       "<matplotlib.figure.Figure at 0x7f72106ea668>"
      ]
     },
     "metadata": {
      "needs_background": "light"
     },
     "output_type": "display_data"
    }
   ],
   "source": [
    "sline = plt.plot(\"t\",\"S\",\"\",data=sir_out,color=\"red\",linewidth=2)\n",
    "iline = plt.plot(\"t\",\"I\",\"\",data=sir_out,color=\"green\",linewidth=2)\n",
    "rline = plt.plot(\"t\",\"R\",\"\",data=sir_out,color=\"blue\",linewidth=2)\n",
    "eline = plt.plot(\"t\",\"E\",\"\",data=sir_out,color=\"orange\",linewidth=2)\n",
    "\n",
    "plt.xlabel(\"Time\",fontweight=\"bold\")\n",
    "plt.ylabel(\"Number\",fontweight=\"bold\")\n",
    "legend = plt.legend(title=\"Population\",loc=5,bbox_to_anchor=(1.25,0.5))\n",
    "frame = legend.get_frame()\n",
    "frame.set_facecolor(\"white\")\n",
    "frame.set_linewidth(0)"
   ]
  },
  {
   "cell_type": "code",
   "execution_count": null,
   "metadata": {},
   "outputs": [],
   "source": []
  },
  {
   "cell_type": "code",
   "execution_count": null,
   "metadata": {},
   "outputs": [],
   "source": []
  }
 ],
 "metadata": {
  "kernelspec": {
   "display_name": "Python 3",
   "language": "python",
   "name": "python3"
  },
  "language_info": {
   "codemirror_mode": {
    "name": "ipython",
    "version": 3
   },
   "file_extension": ".py",
   "mimetype": "text/x-python",
   "name": "python",
   "nbconvert_exporter": "python",
   "pygments_lexer": "ipython3",
   "version": "3.6.9"
  }
 },
 "nbformat": 4,
 "nbformat_minor": 2
}
